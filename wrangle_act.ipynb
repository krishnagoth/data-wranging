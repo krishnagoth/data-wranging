{
 "cells": [
  {
   "cell_type": "code",
   "execution_count": 1,
   "metadata": {},
   "outputs": [],
   "source": [
    "import requests\n",
    "import pandas as pd\n",
    "import tweepy\n",
    "import os\n",
    "import json\n",
    "import sys\n",
    "import numpy as np\n",
    "import matplotlib.pyplot as plt\n",
    "import statsmodels.api as sm\n",
    "\n",
    "from functools import reduce\n",
    "from datetime import datetime\n",
    "from bs4 import BeautifulSoup\n",
    "\n",
    "%matplotlib inline\n",
    "np.random.seed = 42"
   ]
  },
  {
   "cell_type": "markdown",
   "metadata": {},
   "source": [
    "Read the given csv archive."
   ]
  },
  {
   "cell_type": "code",
   "execution_count": 2,
   "metadata": {},
   "outputs": [
    {
     "data": {
      "text/html": [
       "<div>\n",
       "<style scoped>\n",
       "    .dataframe tbody tr th:only-of-type {\n",
       "        vertical-align: middle;\n",
       "    }\n",
       "\n",
       "    .dataframe tbody tr th {\n",
       "        vertical-align: top;\n",
       "    }\n",
       "\n",
       "    .dataframe thead th {\n",
       "        text-align: right;\n",
       "    }\n",
       "</style>\n",
       "<table border=\"1\" class=\"dataframe\">\n",
       "  <thead>\n",
       "    <tr style=\"text-align: right;\">\n",
       "      <th></th>\n",
       "      <th>tweet_id</th>\n",
       "      <th>in_reply_to_status_id</th>\n",
       "      <th>in_reply_to_user_id</th>\n",
       "      <th>timestamp</th>\n",
       "      <th>source</th>\n",
       "      <th>text</th>\n",
       "      <th>retweeted_status_id</th>\n",
       "      <th>retweeted_status_user_id</th>\n",
       "      <th>retweeted_status_timestamp</th>\n",
       "      <th>expanded_urls</th>\n",
       "      <th>rating_numerator</th>\n",
       "      <th>rating_denominator</th>\n",
       "      <th>name</th>\n",
       "      <th>doggo</th>\n",
       "      <th>floofer</th>\n",
       "      <th>pupper</th>\n",
       "      <th>puppo</th>\n",
       "    </tr>\n",
       "  </thead>\n",
       "  <tbody>\n",
       "    <tr>\n",
       "      <th>0</th>\n",
       "      <td>892420643555336193</td>\n",
       "      <td>NaN</td>\n",
       "      <td>NaN</td>\n",
       "      <td>2017-08-01 16:23:56 +0000</td>\n",
       "      <td>&lt;a href=\"http://twitter.com/download/iphone\" r...</td>\n",
       "      <td>This is Phineas. He's a mystical boy. Only eve...</td>\n",
       "      <td>NaN</td>\n",
       "      <td>NaN</td>\n",
       "      <td>NaN</td>\n",
       "      <td>https://twitter.com/dog_rates/status/892420643...</td>\n",
       "      <td>13</td>\n",
       "      <td>10</td>\n",
       "      <td>Phineas</td>\n",
       "      <td>None</td>\n",
       "      <td>None</td>\n",
       "      <td>None</td>\n",
       "      <td>None</td>\n",
       "    </tr>\n",
       "    <tr>\n",
       "      <th>1</th>\n",
       "      <td>892177421306343426</td>\n",
       "      <td>NaN</td>\n",
       "      <td>NaN</td>\n",
       "      <td>2017-08-01 00:17:27 +0000</td>\n",
       "      <td>&lt;a href=\"http://twitter.com/download/iphone\" r...</td>\n",
       "      <td>This is Tilly. She's just checking pup on you....</td>\n",
       "      <td>NaN</td>\n",
       "      <td>NaN</td>\n",
       "      <td>NaN</td>\n",
       "      <td>https://twitter.com/dog_rates/status/892177421...</td>\n",
       "      <td>13</td>\n",
       "      <td>10</td>\n",
       "      <td>Tilly</td>\n",
       "      <td>None</td>\n",
       "      <td>None</td>\n",
       "      <td>None</td>\n",
       "      <td>None</td>\n",
       "    </tr>\n",
       "    <tr>\n",
       "      <th>2</th>\n",
       "      <td>891815181378084864</td>\n",
       "      <td>NaN</td>\n",
       "      <td>NaN</td>\n",
       "      <td>2017-07-31 00:18:03 +0000</td>\n",
       "      <td>&lt;a href=\"http://twitter.com/download/iphone\" r...</td>\n",
       "      <td>This is Archie. He is a rare Norwegian Pouncin...</td>\n",
       "      <td>NaN</td>\n",
       "      <td>NaN</td>\n",
       "      <td>NaN</td>\n",
       "      <td>https://twitter.com/dog_rates/status/891815181...</td>\n",
       "      <td>12</td>\n",
       "      <td>10</td>\n",
       "      <td>Archie</td>\n",
       "      <td>None</td>\n",
       "      <td>None</td>\n",
       "      <td>None</td>\n",
       "      <td>None</td>\n",
       "    </tr>\n",
       "    <tr>\n",
       "      <th>3</th>\n",
       "      <td>891689557279858688</td>\n",
       "      <td>NaN</td>\n",
       "      <td>NaN</td>\n",
       "      <td>2017-07-30 15:58:51 +0000</td>\n",
       "      <td>&lt;a href=\"http://twitter.com/download/iphone\" r...</td>\n",
       "      <td>This is Darla. She commenced a snooze mid meal...</td>\n",
       "      <td>NaN</td>\n",
       "      <td>NaN</td>\n",
       "      <td>NaN</td>\n",
       "      <td>https://twitter.com/dog_rates/status/891689557...</td>\n",
       "      <td>13</td>\n",
       "      <td>10</td>\n",
       "      <td>Darla</td>\n",
       "      <td>None</td>\n",
       "      <td>None</td>\n",
       "      <td>None</td>\n",
       "      <td>None</td>\n",
       "    </tr>\n",
       "    <tr>\n",
       "      <th>4</th>\n",
       "      <td>891327558926688256</td>\n",
       "      <td>NaN</td>\n",
       "      <td>NaN</td>\n",
       "      <td>2017-07-29 16:00:24 +0000</td>\n",
       "      <td>&lt;a href=\"http://twitter.com/download/iphone\" r...</td>\n",
       "      <td>This is Franklin. He would like you to stop ca...</td>\n",
       "      <td>NaN</td>\n",
       "      <td>NaN</td>\n",
       "      <td>NaN</td>\n",
       "      <td>https://twitter.com/dog_rates/status/891327558...</td>\n",
       "      <td>12</td>\n",
       "      <td>10</td>\n",
       "      <td>Franklin</td>\n",
       "      <td>None</td>\n",
       "      <td>None</td>\n",
       "      <td>None</td>\n",
       "      <td>None</td>\n",
       "    </tr>\n",
       "  </tbody>\n",
       "</table>\n",
       "</div>"
      ],
      "text/plain": [
       "             tweet_id  in_reply_to_status_id  in_reply_to_user_id  \\\n",
       "0  892420643555336193                    NaN                  NaN   \n",
       "1  892177421306343426                    NaN                  NaN   \n",
       "2  891815181378084864                    NaN                  NaN   \n",
       "3  891689557279858688                    NaN                  NaN   \n",
       "4  891327558926688256                    NaN                  NaN   \n",
       "\n",
       "                   timestamp  \\\n",
       "0  2017-08-01 16:23:56 +0000   \n",
       "1  2017-08-01 00:17:27 +0000   \n",
       "2  2017-07-31 00:18:03 +0000   \n",
       "3  2017-07-30 15:58:51 +0000   \n",
       "4  2017-07-29 16:00:24 +0000   \n",
       "\n",
       "                                              source  \\\n",
       "0  <a href=\"http://twitter.com/download/iphone\" r...   \n",
       "1  <a href=\"http://twitter.com/download/iphone\" r...   \n",
       "2  <a href=\"http://twitter.com/download/iphone\" r...   \n",
       "3  <a href=\"http://twitter.com/download/iphone\" r...   \n",
       "4  <a href=\"http://twitter.com/download/iphone\" r...   \n",
       "\n",
       "                                                text  retweeted_status_id  \\\n",
       "0  This is Phineas. He's a mystical boy. Only eve...                  NaN   \n",
       "1  This is Tilly. She's just checking pup on you....                  NaN   \n",
       "2  This is Archie. He is a rare Norwegian Pouncin...                  NaN   \n",
       "3  This is Darla. She commenced a snooze mid meal...                  NaN   \n",
       "4  This is Franklin. He would like you to stop ca...                  NaN   \n",
       "\n",
       "   retweeted_status_user_id retweeted_status_timestamp  \\\n",
       "0                       NaN                        NaN   \n",
       "1                       NaN                        NaN   \n",
       "2                       NaN                        NaN   \n",
       "3                       NaN                        NaN   \n",
       "4                       NaN                        NaN   \n",
       "\n",
       "                                       expanded_urls  rating_numerator  \\\n",
       "0  https://twitter.com/dog_rates/status/892420643...                13   \n",
       "1  https://twitter.com/dog_rates/status/892177421...                13   \n",
       "2  https://twitter.com/dog_rates/status/891815181...                12   \n",
       "3  https://twitter.com/dog_rates/status/891689557...                13   \n",
       "4  https://twitter.com/dog_rates/status/891327558...                12   \n",
       "\n",
       "   rating_denominator      name doggo floofer pupper puppo  \n",
       "0                  10   Phineas  None    None   None  None  \n",
       "1                  10     Tilly  None    None   None  None  \n",
       "2                  10    Archie  None    None   None  None  \n",
       "3                  10     Darla  None    None   None  None  \n",
       "4                  10  Franklin  None    None   None  None  "
      ]
     },
     "execution_count": 2,
     "metadata": {},
     "output_type": "execute_result"
    }
   ],
   "source": [
    "df_main = pd.read_csv('twitter-archive-enhanced.csv')\n",
    "df_main.head()"
   ]
  },
  {
   "cell_type": "code",
   "execution_count": 3,
   "metadata": {},
   "outputs": [
    {
     "data": {
      "text/plain": [
       "(2356, 17)"
      ]
     },
     "execution_count": 3,
     "metadata": {},
     "output_type": "execute_result"
    }
   ],
   "source": [
    "df_main.shape"
   ]
  },
  {
   "cell_type": "markdown",
   "metadata": {},
   "source": [
    "Download image predictions data and save it into a csv file."
   ]
  },
  {
   "cell_type": "code",
   "execution_count": 4,
   "metadata": {},
   "outputs": [],
   "source": [
    "# r = requests.get('https://d17h27t6h515a5.cloudfront.net/topher/2017/August/599fd2ad_image-predictions/image-predictions.tsv')\n",
    "# with open('image_predictions.tsv', 'w') as image_predictions_file:\n",
    "#     image_predictions_file.write(r.text)"
   ]
  },
  {
   "cell_type": "code",
   "execution_count": 5,
   "metadata": {},
   "outputs": [],
   "source": [
    "df_predictions = pd.read_csv('image_predictions.tsv', '\\t')"
   ]
  },
  {
   "cell_type": "code",
   "execution_count": 6,
   "metadata": {},
   "outputs": [
    {
     "data": {
      "text/html": [
       "<div>\n",
       "<style scoped>\n",
       "    .dataframe tbody tr th:only-of-type {\n",
       "        vertical-align: middle;\n",
       "    }\n",
       "\n",
       "    .dataframe tbody tr th {\n",
       "        vertical-align: top;\n",
       "    }\n",
       "\n",
       "    .dataframe thead th {\n",
       "        text-align: right;\n",
       "    }\n",
       "</style>\n",
       "<table border=\"1\" class=\"dataframe\">\n",
       "  <thead>\n",
       "    <tr style=\"text-align: right;\">\n",
       "      <th></th>\n",
       "      <th>tweet_id</th>\n",
       "      <th>jpg_url</th>\n",
       "      <th>img_num</th>\n",
       "      <th>p1</th>\n",
       "      <th>p1_conf</th>\n",
       "      <th>p1_dog</th>\n",
       "      <th>p2</th>\n",
       "      <th>p2_conf</th>\n",
       "      <th>p2_dog</th>\n",
       "      <th>p3</th>\n",
       "      <th>p3_conf</th>\n",
       "      <th>p3_dog</th>\n",
       "    </tr>\n",
       "  </thead>\n",
       "  <tbody>\n",
       "    <tr>\n",
       "      <th>0</th>\n",
       "      <td>666020888022790149</td>\n",
       "      <td>https://pbs.twimg.com/media/CT4udn0WwAA0aMy.jpg</td>\n",
       "      <td>1</td>\n",
       "      <td>Welsh_springer_spaniel</td>\n",
       "      <td>0.465074</td>\n",
       "      <td>True</td>\n",
       "      <td>collie</td>\n",
       "      <td>0.156665</td>\n",
       "      <td>True</td>\n",
       "      <td>Shetland_sheepdog</td>\n",
       "      <td>0.061428</td>\n",
       "      <td>True</td>\n",
       "    </tr>\n",
       "    <tr>\n",
       "      <th>1</th>\n",
       "      <td>666029285002620928</td>\n",
       "      <td>https://pbs.twimg.com/media/CT42GRgUYAA5iDo.jpg</td>\n",
       "      <td>1</td>\n",
       "      <td>redbone</td>\n",
       "      <td>0.506826</td>\n",
       "      <td>True</td>\n",
       "      <td>miniature_pinscher</td>\n",
       "      <td>0.074192</td>\n",
       "      <td>True</td>\n",
       "      <td>Rhodesian_ridgeback</td>\n",
       "      <td>0.072010</td>\n",
       "      <td>True</td>\n",
       "    </tr>\n",
       "    <tr>\n",
       "      <th>2</th>\n",
       "      <td>666033412701032449</td>\n",
       "      <td>https://pbs.twimg.com/media/CT4521TWwAEvMyu.jpg</td>\n",
       "      <td>1</td>\n",
       "      <td>German_shepherd</td>\n",
       "      <td>0.596461</td>\n",
       "      <td>True</td>\n",
       "      <td>malinois</td>\n",
       "      <td>0.138584</td>\n",
       "      <td>True</td>\n",
       "      <td>bloodhound</td>\n",
       "      <td>0.116197</td>\n",
       "      <td>True</td>\n",
       "    </tr>\n",
       "    <tr>\n",
       "      <th>3</th>\n",
       "      <td>666044226329800704</td>\n",
       "      <td>https://pbs.twimg.com/media/CT5Dr8HUEAA-lEu.jpg</td>\n",
       "      <td>1</td>\n",
       "      <td>Rhodesian_ridgeback</td>\n",
       "      <td>0.408143</td>\n",
       "      <td>True</td>\n",
       "      <td>redbone</td>\n",
       "      <td>0.360687</td>\n",
       "      <td>True</td>\n",
       "      <td>miniature_pinscher</td>\n",
       "      <td>0.222752</td>\n",
       "      <td>True</td>\n",
       "    </tr>\n",
       "    <tr>\n",
       "      <th>4</th>\n",
       "      <td>666049248165822465</td>\n",
       "      <td>https://pbs.twimg.com/media/CT5IQmsXIAAKY4A.jpg</td>\n",
       "      <td>1</td>\n",
       "      <td>miniature_pinscher</td>\n",
       "      <td>0.560311</td>\n",
       "      <td>True</td>\n",
       "      <td>Rottweiler</td>\n",
       "      <td>0.243682</td>\n",
       "      <td>True</td>\n",
       "      <td>Doberman</td>\n",
       "      <td>0.154629</td>\n",
       "      <td>True</td>\n",
       "    </tr>\n",
       "  </tbody>\n",
       "</table>\n",
       "</div>"
      ],
      "text/plain": [
       "             tweet_id                                          jpg_url  \\\n",
       "0  666020888022790149  https://pbs.twimg.com/media/CT4udn0WwAA0aMy.jpg   \n",
       "1  666029285002620928  https://pbs.twimg.com/media/CT42GRgUYAA5iDo.jpg   \n",
       "2  666033412701032449  https://pbs.twimg.com/media/CT4521TWwAEvMyu.jpg   \n",
       "3  666044226329800704  https://pbs.twimg.com/media/CT5Dr8HUEAA-lEu.jpg   \n",
       "4  666049248165822465  https://pbs.twimg.com/media/CT5IQmsXIAAKY4A.jpg   \n",
       "\n",
       "   img_num                      p1   p1_conf  p1_dog                  p2  \\\n",
       "0        1  Welsh_springer_spaniel  0.465074    True              collie   \n",
       "1        1                 redbone  0.506826    True  miniature_pinscher   \n",
       "2        1         German_shepherd  0.596461    True            malinois   \n",
       "3        1     Rhodesian_ridgeback  0.408143    True             redbone   \n",
       "4        1      miniature_pinscher  0.560311    True          Rottweiler   \n",
       "\n",
       "    p2_conf  p2_dog                   p3   p3_conf  p3_dog  \n",
       "0  0.156665    True    Shetland_sheepdog  0.061428    True  \n",
       "1  0.074192    True  Rhodesian_ridgeback  0.072010    True  \n",
       "2  0.138584    True           bloodhound  0.116197    True  \n",
       "3  0.360687    True   miniature_pinscher  0.222752    True  \n",
       "4  0.243682    True             Doberman  0.154629    True  "
      ]
     },
     "execution_count": 6,
     "metadata": {},
     "output_type": "execute_result"
    }
   ],
   "source": [
    "df_predictions.head()"
   ]
  },
  {
   "cell_type": "code",
   "execution_count": 7,
   "metadata": {},
   "outputs": [
    {
     "data": {
      "text/plain": [
       "(2075, 12)"
      ]
     },
     "execution_count": 7,
     "metadata": {},
     "output_type": "execute_result"
    }
   ],
   "source": [
    "df_predictions.shape"
   ]
  },
  {
   "cell_type": "markdown",
   "metadata": {},
   "source": [
    "Now let's connect to Twitter API and get an instance of tweepy.API object. All Twitter Developer credentials are stored on the system."
   ]
  },
  {
   "cell_type": "code",
   "execution_count": 8,
   "metadata": {},
   "outputs": [],
   "source": [
    "# auth = tweepy.OAuthHandler(os.environ['TWITTER_CONS_API_KEY'], os.environ['TWITTER_CONS_API_SECRET'])\n",
    "# auth.set_access_token(os.environ['TWITTER_ACCESS_TOKEN'], os.environ['TWITTER_ACCESS_SECRET'])\n",
    "\n",
    "# api = tweepy.API(auth)"
   ]
  },
  {
   "cell_type": "code",
   "execution_count": 9,
   "metadata": {},
   "outputs": [],
   "source": [
    "# counter = 1\n",
    "# failed_tweets = []\n",
    "# num_tweets = len(df_main.tweet_id)\n",
    "# with open('tweet_json.txt', 'w') as tweet_json:\n",
    "#     for tweet_id in df_main.tweet_id:\n",
    "#         try:\n",
    "#             data = api.get_status(tweet_id)._json\n",
    "#             tweet_json.write(json.dumps(data))\n",
    "#             tweet_json.write('\\n')\n",
    "#         except:\n",
    "#             failed_tweets.append(tweet_id)\n",
    "#         # print the percentage of tweets processed and move caret back to the start of the line\n",
    "#         # to overwrite on next print\n",
    "#         print('{:3.0%}'.format(counter / num_tweets), end='\\r', flush=True)\n",
    "#         counter += 1"
   ]
  },
  {
   "cell_type": "markdown",
   "metadata": {},
   "source": [
    "Test the processing."
   ]
  },
  {
   "cell_type": "code",
   "execution_count": 10,
   "metadata": {},
   "outputs": [],
   "source": [
    "# with open('tweet_json.txt', 'r') as tweet_json:\n",
    "#     assert len(df_main.tweet_id) == len(list(tweet_json)) + len(failed_tweets)"
   ]
  },
  {
   "cell_type": "code",
   "execution_count": 11,
   "metadata": {},
   "outputs": [],
   "source": [
    "# len(failed_tweets)"
   ]
  },
  {
   "cell_type": "code",
   "execution_count": 12,
   "metadata": {},
   "outputs": [
    {
     "data": {
      "text/plain": [
       "tweet_id    object\n",
       "likes       object\n",
       "retweets    object\n",
       "dtype: object"
      ]
     },
     "execution_count": 12,
     "metadata": {},
     "output_type": "execute_result"
    }
   ],
   "source": [
    "df_tweet_data = pd.DataFrame(columns=['tweet_id', 'likes', 'retweets'])\n",
    "with open('tweet_json.txt', 'r') as tweet_json:\n",
    "    for line in tweet_json:\n",
    "        tweet_j = json.loads(line)\n",
    "        df_tweet_data = df_tweet_data.append(pd.DataFrame({\n",
    "            'tweet_id': tweet_j['id'],\n",
    "            'likes': tweet_j['favorite_count'],\n",
    "            'retweets': tweet_j['retweet_count']\n",
    "        }, index=[0]), ignore_index=True)\n",
    "\n",
    "df_tweet_data.dtypes"
   ]
  },
  {
   "cell_type": "markdown",
   "metadata": {},
   "source": [
    "We need to convert `likes` and `retweets` to numeric type."
   ]
  },
  {
   "cell_type": "code",
   "execution_count": 13,
   "metadata": {},
   "outputs": [
    {
     "data": {
      "text/plain": [
       "tweet_id    object\n",
       "likes        int64\n",
       "retweets     int64\n",
       "dtype: object"
      ]
     },
     "execution_count": 13,
     "metadata": {},
     "output_type": "execute_result"
    }
   ],
   "source": [
    "df_tweet_data.likes = pd.to_numeric(df_tweet_data.likes)\n",
    "df_tweet_data.retweets = pd.to_numeric(df_tweet_data.retweets)\n",
    "df_tweet_data.dtypes"
   ]
  },
  {
   "cell_type": "code",
   "execution_count": 14,
   "metadata": {},
   "outputs": [
    {
     "data": {
      "text/html": [
       "<div>\n",
       "<style scoped>\n",
       "    .dataframe tbody tr th:only-of-type {\n",
       "        vertical-align: middle;\n",
       "    }\n",
       "\n",
       "    .dataframe tbody tr th {\n",
       "        vertical-align: top;\n",
       "    }\n",
       "\n",
       "    .dataframe thead th {\n",
       "        text-align: right;\n",
       "    }\n",
       "</style>\n",
       "<table border=\"1\" class=\"dataframe\">\n",
       "  <thead>\n",
       "    <tr style=\"text-align: right;\">\n",
       "      <th></th>\n",
       "      <th>tweet_id</th>\n",
       "      <th>likes</th>\n",
       "      <th>retweets</th>\n",
       "    </tr>\n",
       "  </thead>\n",
       "  <tbody>\n",
       "    <tr>\n",
       "      <th>0</th>\n",
       "      <td>892420643555336193</td>\n",
       "      <td>38198</td>\n",
       "      <td>8368</td>\n",
       "    </tr>\n",
       "    <tr>\n",
       "      <th>1</th>\n",
       "      <td>892177421306343426</td>\n",
       "      <td>32751</td>\n",
       "      <td>6178</td>\n",
       "    </tr>\n",
       "    <tr>\n",
       "      <th>2</th>\n",
       "      <td>891815181378084864</td>\n",
       "      <td>24667</td>\n",
       "      <td>4089</td>\n",
       "    </tr>\n",
       "    <tr>\n",
       "      <th>3</th>\n",
       "      <td>891689557279858688</td>\n",
       "      <td>41524</td>\n",
       "      <td>8495</td>\n",
       "    </tr>\n",
       "    <tr>\n",
       "      <th>4</th>\n",
       "      <td>891327558926688256</td>\n",
       "      <td>39715</td>\n",
       "      <td>9208</td>\n",
       "    </tr>\n",
       "  </tbody>\n",
       "</table>\n",
       "</div>"
      ],
      "text/plain": [
       "             tweet_id  likes  retweets\n",
       "0  892420643555336193  38198      8368\n",
       "1  892177421306343426  32751      6178\n",
       "2  891815181378084864  24667      4089\n",
       "3  891689557279858688  41524      8495\n",
       "4  891327558926688256  39715      9208"
      ]
     },
     "execution_count": 14,
     "metadata": {},
     "output_type": "execute_result"
    }
   ],
   "source": [
    "df_tweet_data.head()"
   ]
  },
  {
   "cell_type": "markdown",
   "metadata": {},
   "source": [
    "# Data Assessment\n",
    "\n",
    "## Quality Issues\n",
    "\n",
    "1. `doggo`, `pupper`, `puppo` and `floofer` have type string with only two observation values per column."
   ]
  },
  {
   "cell_type": "code",
   "execution_count": 15,
   "metadata": {},
   "outputs": [
    {
     "name": "stdout",
     "output_type": "stream",
     "text": [
      "doggo      object\n",
      "pupper     object\n",
      "puppo      object\n",
      "floofer    object\n",
      "dtype: object\n",
      "['None' 'doggo']\n",
      "['None' 'pupper']\n",
      "['None' 'puppo']\n",
      "['None' 'floofer']\n"
     ]
    }
   ],
   "source": [
    "print(df_main[['doggo', 'pupper', 'puppo', 'floofer']].dtypes)\n",
    "print(df_main.doggo.unique())\n",
    "print(df_main.pupper.unique())\n",
    "print(df_main.puppo.unique())\n",
    "print(df_main.floofer.unique())"
   ]
  },
  {
   "cell_type": "markdown",
   "metadata": {},
   "source": [
    "2. `df_predictions` has less data points than `df_main`."
   ]
  },
  {
   "cell_type": "code",
   "execution_count": 16,
   "metadata": {},
   "outputs": [
    {
     "data": {
      "text/plain": [
       "((2075, 12), (2356, 17))"
      ]
     },
     "execution_count": 16,
     "metadata": {},
     "output_type": "execute_result"
    }
   ],
   "source": [
    "df_predictions.shape, df_main.shape"
   ]
  },
  {
   "cell_type": "markdown",
   "metadata": {},
   "source": [
    "3. `df_tweet_data` has less data points than `df_main`."
   ]
  },
  {
   "cell_type": "code",
   "execution_count": 17,
   "metadata": {},
   "outputs": [
    {
     "data": {
      "text/plain": [
       "((1212, 3), (2356, 17))"
      ]
     },
     "execution_count": 17,
     "metadata": {},
     "output_type": "execute_result"
    }
   ],
   "source": [
    "df_tweet_data.shape, df_main.shape"
   ]
  },
  {
   "cell_type": "markdown",
   "metadata": {},
   "source": [
    "4. `source` column of `df_main` contains meaningless data."
   ]
  },
  {
   "cell_type": "code",
   "execution_count": 18,
   "metadata": {},
   "outputs": [
    {
     "data": {
      "text/plain": [
       "array(['<a href=\"http://twitter.com/download/iphone\" rel=\"nofollow\">Twitter for iPhone</a>',\n",
       "       '<a href=\"http://twitter.com\" rel=\"nofollow\">Twitter Web Client</a>',\n",
       "       '<a href=\"http://vine.co\" rel=\"nofollow\">Vine - Make a Scene</a>',\n",
       "       '<a href=\"https://about.twitter.com/products/tweetdeck\" rel=\"nofollow\">TweetDeck</a>'],\n",
       "      dtype=object)"
      ]
     },
     "execution_count": 18,
     "metadata": {},
     "output_type": "execute_result"
    }
   ],
   "source": [
    "df_main.source.unique()"
   ]
  },
  {
   "cell_type": "markdown",
   "metadata": {},
   "source": [
    "5. Observations in `df_main` that indicate retweets, i.e. the ones that have values in `in_reply_to_status_id` or `retweeted_status_id` should be removed as we don't analyse retweets, only original tweets.\n",
    "6. `expanded_urls` has insufficient data and redundant as it can be reconstructed from `tweet_id`.\n",
    "7. `in_reply_to_status_id`, `in_reply_to_user_id`, `retweeted_status_id` and `retweeted_status_user_id` all have `float` data type."
   ]
  },
  {
   "cell_type": "code",
   "execution_count": 19,
   "metadata": {},
   "outputs": [
    {
     "name": "stdout",
     "output_type": "stream",
     "text": [
      "<class 'pandas.core.frame.DataFrame'>\n",
      "RangeIndex: 2356 entries, 0 to 2355\n",
      "Data columns (total 6 columns):\n",
      "tweet_id                    2356 non-null int64\n",
      "expanded_urls               2297 non-null object\n",
      "in_reply_to_status_id       78 non-null float64\n",
      "in_reply_to_user_id         78 non-null float64\n",
      "retweeted_status_id         181 non-null float64\n",
      "retweeted_status_user_id    181 non-null float64\n",
      "dtypes: float64(4), int64(1), object(1)\n",
      "memory usage: 110.5+ KB\n"
     ]
    }
   ],
   "source": [
    "df_main[['tweet_id',\n",
    "         'expanded_urls',\n",
    "         'in_reply_to_status_id',\n",
    "         'in_reply_to_user_id',\n",
    "         'retweeted_status_id',\n",
    "         'retweeted_status_user_id']].info()"
   ]
  },
  {
   "cell_type": "markdown",
   "metadata": {},
   "source": [
    "8. Some values in `name` are not names (like \"a\", \"an\" or \"the\").\n",
    "9. `name` column has missing data"
   ]
  },
  {
   "cell_type": "code",
   "execution_count": 20,
   "metadata": {},
   "outputs": [
    {
     "name": "stdout",
     "output_type": "stream",
     "text": [
      "object\n"
     ]
    },
    {
     "data": {
      "text/plain": [
       "None       745\n",
       "a           55\n",
       "Charlie     12\n",
       "Oliver      11\n",
       "Lucy        11\n",
       "Cooper      11\n",
       "Lola        10\n",
       "Tucker      10\n",
       "Penny       10\n",
       "Bo           9\n",
       "Winston      9\n",
       "Sadie        8\n",
       "the          8\n",
       "an           7\n",
       "Toby         7\n",
       "Bailey       7\n",
       "Daisy        7\n",
       "Buddy        7\n",
       "Jack         6\n",
       "Scout        6\n",
       "Stanley      6\n",
       "Milo         6\n",
       "Oscar        6\n",
       "Leo          6\n",
       "Jax          6\n",
       "Dave         6\n",
       "Koda         6\n",
       "Bella        6\n",
       "Rusty        6\n",
       "Finn         5\n",
       "          ... \n",
       "JD           1\n",
       "Kenzie       1\n",
       "Burt         1\n",
       "Newt         1\n",
       "Kial         1\n",
       "Brudge       1\n",
       "Ron          1\n",
       "by           1\n",
       "Marty        1\n",
       "Poppy        1\n",
       "Joshwa       1\n",
       "Biden        1\n",
       "Kara         1\n",
       "Rover        1\n",
       "Bobbay       1\n",
       "Chevy        1\n",
       "Deacon       1\n",
       "Petrick      1\n",
       "Obi          1\n",
       "Maya         1\n",
       "Chuq         1\n",
       "Harry        1\n",
       "Erik         1\n",
       "Pubert       1\n",
       "Kloey        1\n",
       "Josep        1\n",
       "Roscoe       1\n",
       "Jeffrie      1\n",
       "Baron        1\n",
       "Geoff        1\n",
       "Name: name, Length: 957, dtype: int64"
      ]
     },
     "execution_count": 20,
     "metadata": {},
     "output_type": "execute_result"
    }
   ],
   "source": [
    "print(df_main.name.dtypes)\n",
    "df_main.name.value_counts()"
   ]
  },
  {
   "cell_type": "markdown",
   "metadata": {},
   "source": [
    "10. `timestamp` column has `date` type where displaying it in Unix time is more convenient for analysis."
   ]
  },
  {
   "cell_type": "code",
   "execution_count": 21,
   "metadata": {},
   "outputs": [
    {
     "name": "stdout",
     "output_type": "stream",
     "text": [
      "object\n",
      "0    2017-08-01 16:23:56 +0000\n",
      "1    2017-08-01 00:17:27 +0000\n",
      "2    2017-07-31 00:18:03 +0000\n",
      "3    2017-07-30 15:58:51 +0000\n",
      "4    2017-07-29 16:00:24 +0000\n",
      "Name: timestamp, dtype: object\n"
     ]
    }
   ],
   "source": [
    "print(df_main.timestamp.dtype)\n",
    "print(df_main.timestamp.head())"
   ]
  },
  {
   "cell_type": "markdown",
   "metadata": {},
   "source": [
    "11. `df_predictions` have non-breeds as breed predictions."
   ]
  },
  {
   "cell_type": "code",
   "execution_count": 22,
   "metadata": {},
   "outputs": [
    {
     "data": {
      "text/html": [
       "<div>\n",
       "<style scoped>\n",
       "    .dataframe tbody tr th:only-of-type {\n",
       "        vertical-align: middle;\n",
       "    }\n",
       "\n",
       "    .dataframe tbody tr th {\n",
       "        vertical-align: top;\n",
       "    }\n",
       "\n",
       "    .dataframe thead th {\n",
       "        text-align: right;\n",
       "    }\n",
       "</style>\n",
       "<table border=\"1\" class=\"dataframe\">\n",
       "  <thead>\n",
       "    <tr style=\"text-align: right;\">\n",
       "      <th></th>\n",
       "      <th>tweet_id</th>\n",
       "      <th>jpg_url</th>\n",
       "      <th>img_num</th>\n",
       "      <th>p1</th>\n",
       "      <th>p1_conf</th>\n",
       "      <th>p1_dog</th>\n",
       "      <th>p2</th>\n",
       "      <th>p2_conf</th>\n",
       "      <th>p2_dog</th>\n",
       "      <th>p3</th>\n",
       "      <th>p3_conf</th>\n",
       "      <th>p3_dog</th>\n",
       "    </tr>\n",
       "  </thead>\n",
       "  <tbody>\n",
       "    <tr>\n",
       "      <th>1138</th>\n",
       "      <td>729113531270991872</td>\n",
       "      <td>https://pbs.twimg.com/media/Ch5U4FzXEAAShhF.jpg</td>\n",
       "      <td>2</td>\n",
       "      <td>stone_wall</td>\n",
       "      <td>0.606188</td>\n",
       "      <td>False</td>\n",
       "      <td>prison</td>\n",
       "      <td>0.064831</td>\n",
       "      <td>False</td>\n",
       "      <td>bannister</td>\n",
       "      <td>0.048048</td>\n",
       "      <td>False</td>\n",
       "    </tr>\n",
       "  </tbody>\n",
       "</table>\n",
       "</div>"
      ],
      "text/plain": [
       "                tweet_id                                          jpg_url  \\\n",
       "1138  729113531270991872  https://pbs.twimg.com/media/Ch5U4FzXEAAShhF.jpg   \n",
       "\n",
       "      img_num          p1   p1_conf  p1_dog      p2   p2_conf  p2_dog  \\\n",
       "1138        2  stone_wall  0.606188   False  prison  0.064831   False   \n",
       "\n",
       "             p3   p3_conf  p3_dog  \n",
       "1138  bannister  0.048048   False  "
      ]
     },
     "execution_count": 22,
     "metadata": {},
     "output_type": "execute_result"
    }
   ],
   "source": [
    "df_predictions[df_predictions.index == 1138]"
   ]
  },
  {
   "cell_type": "code",
   "execution_count": 23,
   "metadata": {},
   "outputs": [
    {
     "data": {
      "text/plain": [
       "True"
      ]
     },
     "execution_count": 23,
     "metadata": {},
     "output_type": "execute_result"
    }
   ],
   "source": [
    "(df_predictions['p1'] == 'stone_wall').any()"
   ]
  },
  {
   "cell_type": "markdown",
   "metadata": {},
   "source": [
    "## Tidiness Issues\n",
    "\n",
    "1. `doggo`, `pupper`, `puppo` and `floofer` are values of 'type of dog' variable, that are used as variables in the data set which contradicts the rule number 1<sup>[1]</sup> of tidy data.\n",
    "2. Main data set contains sets of data that don't belong in the same table like 'tweet id - tweet text' and 'tweet id - dog data' associations which is contrary to rule 3<sup>[1]</sup>."
   ]
  },
  {
   "cell_type": "markdown",
   "metadata": {},
   "source": [
    "# Data Cleaning\n",
    "\n",
    "## Quality Improvements\n",
    "\n",
    "First, let's copy original DataFrame."
   ]
  },
  {
   "cell_type": "code",
   "execution_count": 24,
   "metadata": {},
   "outputs": [],
   "source": [
    "df_main_clean = df_main.copy()"
   ]
  },
  {
   "cell_type": "markdown",
   "metadata": {},
   "source": [
    "1. Join `doggo`, `pupper`, `puppo` and `floofer` into a single column with category data type"
   ]
  },
  {
   "cell_type": "code",
   "execution_count": 25,
   "metadata": {},
   "outputs": [],
   "source": [
    "df_main_clean[['doggo', 'pupper', 'puppo', 'floofer']] = df_main_clean[['doggo', 'pupper', 'puppo', 'floofer']].replace('None', np.nan)\n",
    "df_main_clean['dog_type'] = df_main_clean[['doggo', 'pupper', 'puppo', 'floofer']].apply(lambda s: pd.Series(reduce(lambda r, i: r if i is np.nan else str(i), s, None)), axis=1)\n",
    "df_main_clean['dog_type'] = df_main_clean['dog_type'].astype('category')"
   ]
  },
  {
   "cell_type": "code",
   "execution_count": 26,
   "metadata": {},
   "outputs": [
    {
     "name": "stdout",
     "output_type": "stream",
     "text": [
      "<class 'pandas.core.frame.DataFrame'>\n",
      "RangeIndex: 2356 entries, 0 to 2355\n",
      "Data columns (total 1 columns):\n",
      "dog_type    380 non-null category\n",
      "dtypes: category(1)\n",
      "memory usage: 2.6 KB\n"
     ]
    }
   ],
   "source": [
    "df_main_clean[['dog_type']].info()"
   ]
  },
  {
   "cell_type": "markdown",
   "metadata": {},
   "source": [
    "2, 3. Let's not drop the tweets in `df_main` not encountered in `df_predictions` and `df_tweet_data` just yet."
   ]
  },
  {
   "cell_type": "markdown",
   "metadata": {},
   "source": [
    "4. Remove `source` column of `df_main`."
   ]
  },
  {
   "cell_type": "code",
   "execution_count": 27,
   "metadata": {},
   "outputs": [],
   "source": [
    "df_main_clean.drop('source', axis=1, inplace=True)"
   ]
  },
  {
   "cell_type": "code",
   "execution_count": 28,
   "metadata": {},
   "outputs": [],
   "source": [
    "assert 'source' not in df_main_clean.columns"
   ]
  },
  {
   "cell_type": "markdown",
   "metadata": {},
   "source": [
    "5, 7. Remove observations that indicate retweets, i.e. the ones that have values in `in_reply_to_status_id` or `retweeted_status_id`, then drop the columns."
   ]
  },
  {
   "cell_type": "code",
   "execution_count": 29,
   "metadata": {},
   "outputs": [],
   "source": [
    "df_main_clean = df_main_clean[df_main_clean.in_reply_to_status_id.isnull() & df_main_clean.retweeted_status_id.isnull()]"
   ]
  },
  {
   "cell_type": "code",
   "execution_count": 30,
   "metadata": {},
   "outputs": [],
   "source": [
    "df_main_clean.drop(['in_reply_to_status_id', 'in_reply_to_user_id', 'retweeted_status_id', 'retweeted_status_user_id', 'retweeted_status_timestamp'], axis=1, inplace=True)"
   ]
  },
  {
   "cell_type": "code",
   "execution_count": 31,
   "metadata": {
    "scrolled": true
   },
   "outputs": [
    {
     "data": {
      "text/html": [
       "<div>\n",
       "<style scoped>\n",
       "    .dataframe tbody tr th:only-of-type {\n",
       "        vertical-align: middle;\n",
       "    }\n",
       "\n",
       "    .dataframe tbody tr th {\n",
       "        vertical-align: top;\n",
       "    }\n",
       "\n",
       "    .dataframe thead th {\n",
       "        text-align: right;\n",
       "    }\n",
       "</style>\n",
       "<table border=\"1\" class=\"dataframe\">\n",
       "  <thead>\n",
       "    <tr style=\"text-align: right;\">\n",
       "      <th></th>\n",
       "      <th>tweet_id</th>\n",
       "      <th>timestamp</th>\n",
       "      <th>text</th>\n",
       "      <th>expanded_urls</th>\n",
       "      <th>rating_numerator</th>\n",
       "      <th>rating_denominator</th>\n",
       "      <th>name</th>\n",
       "      <th>doggo</th>\n",
       "      <th>floofer</th>\n",
       "      <th>pupper</th>\n",
       "      <th>puppo</th>\n",
       "      <th>dog_type</th>\n",
       "    </tr>\n",
       "  </thead>\n",
       "  <tbody>\n",
       "    <tr>\n",
       "      <th>0</th>\n",
       "      <td>892420643555336193</td>\n",
       "      <td>2017-08-01 16:23:56 +0000</td>\n",
       "      <td>This is Phineas. He's a mystical boy. Only eve...</td>\n",
       "      <td>https://twitter.com/dog_rates/status/892420643...</td>\n",
       "      <td>13</td>\n",
       "      <td>10</td>\n",
       "      <td>Phineas</td>\n",
       "      <td>NaN</td>\n",
       "      <td>NaN</td>\n",
       "      <td>NaN</td>\n",
       "      <td>NaN</td>\n",
       "      <td>NaN</td>\n",
       "    </tr>\n",
       "    <tr>\n",
       "      <th>1</th>\n",
       "      <td>892177421306343426</td>\n",
       "      <td>2017-08-01 00:17:27 +0000</td>\n",
       "      <td>This is Tilly. She's just checking pup on you....</td>\n",
       "      <td>https://twitter.com/dog_rates/status/892177421...</td>\n",
       "      <td>13</td>\n",
       "      <td>10</td>\n",
       "      <td>Tilly</td>\n",
       "      <td>NaN</td>\n",
       "      <td>NaN</td>\n",
       "      <td>NaN</td>\n",
       "      <td>NaN</td>\n",
       "      <td>NaN</td>\n",
       "    </tr>\n",
       "    <tr>\n",
       "      <th>2</th>\n",
       "      <td>891815181378084864</td>\n",
       "      <td>2017-07-31 00:18:03 +0000</td>\n",
       "      <td>This is Archie. He is a rare Norwegian Pouncin...</td>\n",
       "      <td>https://twitter.com/dog_rates/status/891815181...</td>\n",
       "      <td>12</td>\n",
       "      <td>10</td>\n",
       "      <td>Archie</td>\n",
       "      <td>NaN</td>\n",
       "      <td>NaN</td>\n",
       "      <td>NaN</td>\n",
       "      <td>NaN</td>\n",
       "      <td>NaN</td>\n",
       "    </tr>\n",
       "    <tr>\n",
       "      <th>3</th>\n",
       "      <td>891689557279858688</td>\n",
       "      <td>2017-07-30 15:58:51 +0000</td>\n",
       "      <td>This is Darla. She commenced a snooze mid meal...</td>\n",
       "      <td>https://twitter.com/dog_rates/status/891689557...</td>\n",
       "      <td>13</td>\n",
       "      <td>10</td>\n",
       "      <td>Darla</td>\n",
       "      <td>NaN</td>\n",
       "      <td>NaN</td>\n",
       "      <td>NaN</td>\n",
       "      <td>NaN</td>\n",
       "      <td>NaN</td>\n",
       "    </tr>\n",
       "    <tr>\n",
       "      <th>4</th>\n",
       "      <td>891327558926688256</td>\n",
       "      <td>2017-07-29 16:00:24 +0000</td>\n",
       "      <td>This is Franklin. He would like you to stop ca...</td>\n",
       "      <td>https://twitter.com/dog_rates/status/891327558...</td>\n",
       "      <td>12</td>\n",
       "      <td>10</td>\n",
       "      <td>Franklin</td>\n",
       "      <td>NaN</td>\n",
       "      <td>NaN</td>\n",
       "      <td>NaN</td>\n",
       "      <td>NaN</td>\n",
       "      <td>NaN</td>\n",
       "    </tr>\n",
       "  </tbody>\n",
       "</table>\n",
       "</div>"
      ],
      "text/plain": [
       "             tweet_id                  timestamp  \\\n",
       "0  892420643555336193  2017-08-01 16:23:56 +0000   \n",
       "1  892177421306343426  2017-08-01 00:17:27 +0000   \n",
       "2  891815181378084864  2017-07-31 00:18:03 +0000   \n",
       "3  891689557279858688  2017-07-30 15:58:51 +0000   \n",
       "4  891327558926688256  2017-07-29 16:00:24 +0000   \n",
       "\n",
       "                                                text  \\\n",
       "0  This is Phineas. He's a mystical boy. Only eve...   \n",
       "1  This is Tilly. She's just checking pup on you....   \n",
       "2  This is Archie. He is a rare Norwegian Pouncin...   \n",
       "3  This is Darla. She commenced a snooze mid meal...   \n",
       "4  This is Franklin. He would like you to stop ca...   \n",
       "\n",
       "                                       expanded_urls  rating_numerator  \\\n",
       "0  https://twitter.com/dog_rates/status/892420643...                13   \n",
       "1  https://twitter.com/dog_rates/status/892177421...                13   \n",
       "2  https://twitter.com/dog_rates/status/891815181...                12   \n",
       "3  https://twitter.com/dog_rates/status/891689557...                13   \n",
       "4  https://twitter.com/dog_rates/status/891327558...                12   \n",
       "\n",
       "   rating_denominator      name doggo floofer pupper puppo dog_type  \n",
       "0                  10   Phineas   NaN     NaN    NaN   NaN      NaN  \n",
       "1                  10     Tilly   NaN     NaN    NaN   NaN      NaN  \n",
       "2                  10    Archie   NaN     NaN    NaN   NaN      NaN  \n",
       "3                  10     Darla   NaN     NaN    NaN   NaN      NaN  \n",
       "4                  10  Franklin   NaN     NaN    NaN   NaN      NaN  "
      ]
     },
     "execution_count": 31,
     "metadata": {},
     "output_type": "execute_result"
    }
   ],
   "source": [
    "df_main_clean.head()"
   ]
  },
  {
   "cell_type": "markdown",
   "metadata": {},
   "source": [
    "6. Drop `expanded_urls`."
   ]
  },
  {
   "cell_type": "code",
   "execution_count": 32,
   "metadata": {},
   "outputs": [],
   "source": [
    "df_main_clean.drop('expanded_urls', axis=1, inplace=True)"
   ]
  },
  {
   "cell_type": "markdown",
   "metadata": {},
   "source": [
    "8. Remove invalid dog names from `name` column.\n",
    "\n",
    "First let's look at the words that don't look like names."
   ]
  },
  {
   "cell_type": "code",
   "execution_count": 33,
   "metadata": {},
   "outputs": [
    {
     "data": {
      "text/plain": [
       "['such',\n",
       " 'a',\n",
       " 'quite',\n",
       " 'not',\n",
       " 'one',\n",
       " 'incredibly',\n",
       " 'very',\n",
       " 'my',\n",
       " 'his',\n",
       " 'an',\n",
       " 'actually',\n",
       " 'just',\n",
       " 'getting',\n",
       " 'mad',\n",
       " 'this',\n",
       " 'unacceptable',\n",
       " 'all',\n",
       " 'old',\n",
       " 'infuriating',\n",
       " 'the',\n",
       " 'by',\n",
       " 'officially',\n",
       " 'life',\n",
       " 'light',\n",
       " 'space']"
      ]
     },
     "execution_count": 33,
     "metadata": {},
     "output_type": "execute_result"
    }
   ],
   "source": [
    "non_names = list(filter(lambda n: not n[0].isupper(), df_main_clean['name'].unique()))\n",
    "non_names"
   ]
  },
  {
   "cell_type": "markdown",
   "metadata": {},
   "source": [
    "Bingo! Now let's append uppercase versions of these words to the list."
   ]
  },
  {
   "cell_type": "code",
   "execution_count": 34,
   "metadata": {},
   "outputs": [
    {
     "data": {
      "text/plain": [
       "['such',\n",
       " 'a',\n",
       " 'quite',\n",
       " 'not',\n",
       " 'one',\n",
       " 'incredibly',\n",
       " 'very',\n",
       " 'my',\n",
       " 'his',\n",
       " 'an',\n",
       " 'actually',\n",
       " 'just',\n",
       " 'getting',\n",
       " 'mad',\n",
       " 'this',\n",
       " 'unacceptable',\n",
       " 'all',\n",
       " 'old',\n",
       " 'infuriating',\n",
       " 'the',\n",
       " 'by',\n",
       " 'officially',\n",
       " 'life',\n",
       " 'light',\n",
       " 'space',\n",
       " 'Such',\n",
       " 'A',\n",
       " 'Quite',\n",
       " 'Not',\n",
       " 'One',\n",
       " 'Incredibly',\n",
       " 'Very',\n",
       " 'My',\n",
       " 'His',\n",
       " 'An',\n",
       " 'Actually',\n",
       " 'Just',\n",
       " 'Getting',\n",
       " 'Mad',\n",
       " 'This',\n",
       " 'Unacceptable',\n",
       " 'All',\n",
       " 'Old',\n",
       " 'Infuriating',\n",
       " 'The',\n",
       " 'By',\n",
       " 'Officially',\n",
       " 'Life',\n",
       " 'Light',\n",
       " 'Space']"
      ]
     },
     "execution_count": 34,
     "metadata": {},
     "output_type": "execute_result"
    }
   ],
   "source": [
    "non_names = non_names + [n[0].upper() + n[1:] for n in non_names]\n",
    "non_names"
   ]
  },
  {
   "cell_type": "code",
   "execution_count": 35,
   "metadata": {},
   "outputs": [],
   "source": [
    "df_main_clean['name'] = df_main_clean['name'].replace(non_names, np.nan)\n",
    "for n in non_names:\n",
    "    assert n not in df_main_clean['name'].unique()"
   ]
  },
  {
   "cell_type": "markdown",
   "metadata": {},
   "source": [
    "9. We may not have to drop rows with missing names just yet."
   ]
  },
  {
   "cell_type": "markdown",
   "metadata": {},
   "source": [
    "10. Convert `timestamp` column into Unix time."
   ]
  },
  {
   "cell_type": "code",
   "execution_count": 36,
   "metadata": {},
   "outputs": [],
   "source": [
    "df_main_clean.timestamp = df_main_clean.timestamp.apply(lambda t: int((datetime.strptime(t, \"%Y-%m-%d %H:%M:%S %z\").replace(tzinfo=None) - datetime(1970, 1, 1)).total_seconds()))"
   ]
  },
  {
   "cell_type": "code",
   "execution_count": 37,
   "metadata": {},
   "outputs": [
    {
     "name": "stdout",
     "output_type": "stream",
     "text": [
      "int64\n"
     ]
    },
    {
     "data": {
      "text/plain": [
       "0    1501604636\n",
       "1    1501546647\n",
       "2    1501460283\n",
       "3    1501430331\n",
       "4    1501344024\n",
       "Name: timestamp, dtype: int64"
      ]
     },
     "execution_count": 37,
     "metadata": {},
     "output_type": "execute_result"
    }
   ],
   "source": [
    "print(df_main_clean.timestamp.dtype)\n",
    "df_main_clean.timestamp.head()"
   ]
  },
  {
   "cell_type": "markdown",
   "metadata": {},
   "source": [
    "11. Drop rows that contain non-breed observations in `df_predictions`.\n",
    "\n",
    "For that let's first compile a list of dog breeds."
   ]
  },
  {
   "cell_type": "code",
   "execution_count": 38,
   "metadata": {},
   "outputs": [
    {
     "data": {
      "text/html": [
       "<div>\n",
       "<style scoped>\n",
       "    .dataframe tbody tr th:only-of-type {\n",
       "        vertical-align: middle;\n",
       "    }\n",
       "\n",
       "    .dataframe tbody tr th {\n",
       "        vertical-align: top;\n",
       "    }\n",
       "\n",
       "    .dataframe thead th {\n",
       "        text-align: right;\n",
       "    }\n",
       "</style>\n",
       "<table border=\"1\" class=\"dataframe\">\n",
       "  <thead>\n",
       "    <tr style=\"text-align: right;\">\n",
       "      <th></th>\n",
       "      <th>tweet_id</th>\n",
       "      <th>jpg_url</th>\n",
       "      <th>img_num</th>\n",
       "      <th>p1</th>\n",
       "      <th>p1_conf</th>\n",
       "      <th>p1_dog</th>\n",
       "      <th>p2</th>\n",
       "      <th>p2_conf</th>\n",
       "      <th>p2_dog</th>\n",
       "      <th>p3</th>\n",
       "      <th>p3_conf</th>\n",
       "      <th>p3_dog</th>\n",
       "    </tr>\n",
       "  </thead>\n",
       "  <tbody>\n",
       "    <tr>\n",
       "      <th>0</th>\n",
       "      <td>666020888022790149</td>\n",
       "      <td>https://pbs.twimg.com/media/CT4udn0WwAA0aMy.jpg</td>\n",
       "      <td>1</td>\n",
       "      <td>Welsh_springer_spaniel</td>\n",
       "      <td>0.465074</td>\n",
       "      <td>True</td>\n",
       "      <td>collie</td>\n",
       "      <td>0.156665</td>\n",
       "      <td>True</td>\n",
       "      <td>Shetland_sheepdog</td>\n",
       "      <td>0.061428</td>\n",
       "      <td>True</td>\n",
       "    </tr>\n",
       "  </tbody>\n",
       "</table>\n",
       "</div>"
      ],
      "text/plain": [
       "             tweet_id                                          jpg_url  \\\n",
       "0  666020888022790149  https://pbs.twimg.com/media/CT4udn0WwAA0aMy.jpg   \n",
       "\n",
       "   img_num                      p1   p1_conf  p1_dog      p2   p2_conf  \\\n",
       "0        1  Welsh_springer_spaniel  0.465074    True  collie  0.156665   \n",
       "\n",
       "   p2_dog                 p3   p3_conf  p3_dog  \n",
       "0    True  Shetland_sheepdog  0.061428    True  "
      ]
     },
     "execution_count": 38,
     "metadata": {},
     "output_type": "execute_result"
    }
   ],
   "source": [
    "df_predictions.head(1)"
   ]
  },
  {
   "cell_type": "code",
   "execution_count": 39,
   "metadata": {},
   "outputs": [],
   "source": [
    "r = requests.get('https://en.wikipedia.org/wiki/List_of_dog_breeds')\n",
    "breeds_html = r.text\n",
    "    \n",
    "soup = BeautifulSoup(breeds_html, 'html.parser')"
   ]
  },
  {
   "cell_type": "code",
   "execution_count": 40,
   "metadata": {},
   "outputs": [],
   "source": [
    "breed_table_rows = soup.find_all('table')[0].find('tbody').find_all('tr')[1:-1]\n",
    "breeds = []\n",
    "errors = []\n",
    "for breed_row in breed_table_rows:\n",
    "    try:\n",
    "        breed_cell = breed_row.find_all('td')[0]\n",
    "        breed_link_text = breed_cell.find('a').contents[0]\n",
    "        breeds.append(breed_link_text)\n",
    "    except:\n",
    "        errors.append(breed_row)"
   ]
  },
  {
   "cell_type": "code",
   "execution_count": 41,
   "metadata": {
    "scrolled": true
   },
   "outputs": [
    {
     "data": {
      "text/plain": [
       "['Affenpinscher',\n",
       " 'Afghan Hound',\n",
       " 'Afghan Shepherd',\n",
       " 'Aidi',\n",
       " 'Airedale Terrier',\n",
       " 'Akbash',\n",
       " 'Akita',\n",
       " 'Alano Español',\n",
       " 'Alaskan husky',\n",
       " 'Alaskan Klee Kai',\n",
       " 'Alaskan Malamute',\n",
       " 'Alaunt',\n",
       " 'Alopekis',\n",
       " 'Alpine Dachsbracke',\n",
       " 'Alpine Mastiff',\n",
       " 'Alpine Spaniel',\n",
       " 'American Akita',\n",
       " 'American Bulldog',\n",
       " 'American Cocker Spaniel',\n",
       " 'American English Coonhound',\n",
       " 'American Eskimo Dog',\n",
       " 'American Foxhound',\n",
       " 'American Hairless Terrier',\n",
       " 'American Pit Bull Terrier',\n",
       " 'American Staffordshire Terrier',\n",
       " 'American Water Spaniel',\n",
       " 'Anatolian Shepherd Dog',\n",
       " 'Andalusian Hound',\n",
       " 'Anglo-Français de Petite Vénerie',\n",
       " 'Appenzeller Sennenhund',\n",
       " \"Braque de l'Ariege\",\n",
       " 'Ariegeois',\n",
       " 'Armant',\n",
       " 'Armenian Gampr dog',\n",
       " 'Artois Hound',\n",
       " 'Australian Cattle Dog',\n",
       " 'Australian Kelpie',\n",
       " 'Australian Shepherd',\n",
       " 'Australian Silky Terrier',\n",
       " 'Australian Stumpy Tail Cattle Dog',\n",
       " 'Australian Terrier',\n",
       " 'Austrian Black and Tan Hound',\n",
       " 'Austrian Pinscher',\n",
       " 'Azawakh',\n",
       " 'Bakharwal dog',\n",
       " 'Barbet',\n",
       " 'Basenji',\n",
       " 'Basque Shepherd Dog',\n",
       " 'Basset Artésien Normand',\n",
       " 'Basset Bleu de Gascogne',\n",
       " 'Basset Fauve de Bretagne',\n",
       " 'Grand Basset Griffon Vendéen',\n",
       " 'Petit Basset Griffon Vendéen',\n",
       " 'Basset Hound',\n",
       " 'Bavarian Mountain Hound',\n",
       " 'Beagle',\n",
       " 'Beagle-Harrier',\n",
       " 'Bearded Collie',\n",
       " 'Beauceron',\n",
       " 'Bedlington Terrier',\n",
       " 'Belgian Shepherd Dog (Groenendael)',\n",
       " 'Belgian Shepherd Dog (Laekenois)',\n",
       " 'Belgian Shepherd Dog (Malinois)',\n",
       " 'Belgian Shepherd Dog (Tervuren)',\n",
       " 'Bergamasco Shepherd',\n",
       " 'Berger Blanc Suisse',\n",
       " 'Berger Picard',\n",
       " 'Bernese Mountain Dog',\n",
       " 'Bichon Frisé',\n",
       " 'Billy',\n",
       " 'Black and Tan Coonhound',\n",
       " 'Black and Tan Virginia Foxhound',\n",
       " 'Black Norwegian Elkhound',\n",
       " 'Black Russian Terrier',\n",
       " 'Black Mouth Cur',\n",
       " 'Grand Bleu de Gascogne',\n",
       " 'Petit Bleu de Gascogne',\n",
       " 'Bloodhound',\n",
       " 'Blue Heeler',\n",
       " 'Blue Lacy',\n",
       " 'Blue Paul Terrier',\n",
       " 'Blue Picardy Spaniel',\n",
       " 'Bluetick Coonhound',\n",
       " 'Boerboel',\n",
       " 'Bohemian Shepherd',\n",
       " 'Bolognese',\n",
       " 'Border Collie',\n",
       " 'Border Terrier',\n",
       " 'Borzoi',\n",
       " 'Bosnian Coarse-haired Hound',\n",
       " 'Boston Terrier',\n",
       " 'Bouvier des Ardennes',\n",
       " 'Bouvier des Flandres',\n",
       " 'Boxer',\n",
       " 'Boykin Spaniel',\n",
       " 'Bracco Italiano',\n",
       " \"Braque d'Auvergne\",\n",
       " 'Braque du Bourbonnais',\n",
       " 'Braque du Puy',\n",
       " 'Braque Francais',\n",
       " 'Braque Saint-Germain',\n",
       " 'Brazilian Dogo',\n",
       " 'Brazilian Terrier',\n",
       " 'Briard',\n",
       " 'Briquet Griffon Vendéen',\n",
       " 'Brittany',\n",
       " 'Broholmer',\n",
       " 'Bruno Jura Hound',\n",
       " 'Bucovina Shepherd Dog',\n",
       " 'Bull and Terrier',\n",
       " 'Bull Terrier',\n",
       " 'Bulldog',\n",
       " 'Bullenbeisser',\n",
       " 'Bullmastiff',\n",
       " 'Bully Kutta',\n",
       " 'Burgos Pointer',\n",
       " 'Cairn Terrier',\n",
       " 'Canaan Dog',\n",
       " 'Canadian Eskimo Dog',\n",
       " 'Cane Corso',\n",
       " 'Cantabrian Water Dog',\n",
       " 'Cão da Serra de Aires',\n",
       " 'Cão de Castro Laboreiro',\n",
       " 'Cão de Gado Transmontano',\n",
       " 'Cão Fila de São Miguel',\n",
       " 'Carolina Dog',\n",
       " 'Carpathian Shepherd Dog',\n",
       " 'Catahoula Leopard Dog',\n",
       " 'Catalan Sheepdog',\n",
       " 'Caucasian Shepherd Dog',\n",
       " 'Cavalier King Charles Spaniel',\n",
       " 'Central Asian Shepherd Dog',\n",
       " 'Cesky Fousek',\n",
       " 'Cesky Terrier',\n",
       " 'Chesapeake Bay Retriever',\n",
       " 'Chien Français Blanc et Noir',\n",
       " 'Chien Français Blanc et Orange',\n",
       " 'Chien Français Tricolore',\n",
       " 'Chien-gris',\n",
       " 'Chihuahua',\n",
       " 'Chilean Fox Terrier',\n",
       " 'Chinese Chongqing Dog',\n",
       " 'Chinese Crested Dog',\n",
       " 'Chinese Imperial Dog',\n",
       " 'Chinook',\n",
       " 'Chippiparai',\n",
       " 'Chow Chow',\n",
       " 'Cierny Sery',\n",
       " \"Cirneco dell'Etna\",\n",
       " 'Clumber Spaniel',\n",
       " 'Collie, Rough',\n",
       " 'Collie, Smooth',\n",
       " 'Combai',\n",
       " 'Cordoba Fighting Dog',\n",
       " 'Coton de Tulear',\n",
       " 'Cretan Hound',\n",
       " 'Croatian Sheepdog',\n",
       " 'Cumberland Sheepdog',\n",
       " 'Curly-Coated Retriever',\n",
       " 'Cursinu',\n",
       " 'Czechoslovakian Wolfdog',\n",
       " 'Dachshund',\n",
       " 'Dalmatian',\n",
       " 'Dandie Dinmont Terrier',\n",
       " 'Danish-Swedish Farmdog',\n",
       " 'Deutsche Bracke',\n",
       " 'Doberman Pinscher',\n",
       " 'Dogo Argentino',\n",
       " 'Dogo Cubano',\n",
       " 'Dogue de Bordeaux',\n",
       " 'Drentse Patrijshond',\n",
       " 'Drever',\n",
       " 'Dunker',\n",
       " 'Dutch Shepherd',\n",
       " 'Dutch Smoushond',\n",
       " 'East Siberian Laika',\n",
       " 'East European Shepherd',\n",
       " 'Elo',\n",
       " 'English Cocker Spaniel',\n",
       " 'English Foxhound',\n",
       " 'English Mastiff',\n",
       " 'English Setter',\n",
       " 'English Shepherd',\n",
       " 'English Springer Spaniel',\n",
       " 'English Toy Terrier (Black & Tan)',\n",
       " 'English Water Spaniel',\n",
       " 'English White Terrier',\n",
       " 'Entlebucher Mountain Dog',\n",
       " 'Estonian Hound',\n",
       " 'Estrela Mountain Dog',\n",
       " 'Eurasier',\n",
       " 'Eurohound',\n",
       " 'Field Spaniel',\n",
       " 'Fila Brasileiro',\n",
       " 'Finnish Hound',\n",
       " 'Finnish Lapphund',\n",
       " 'Finnish Spitz',\n",
       " 'Flat-Coated Retriever',\n",
       " 'Fox Terrier, Smooth',\n",
       " 'Fox Terrier, Wire',\n",
       " 'French Brittany',\n",
       " 'French Bulldog',\n",
       " 'French Spaniel',\n",
       " 'Gaddi Kutta',\n",
       " 'Galgo Español',\n",
       " 'Galician Cattle Dog',\n",
       " 'Garafian Shepherd',\n",
       " 'Gascon Saintongeois',\n",
       " 'Georgian Shepherd Dog',\n",
       " 'German Longhaired Pointer',\n",
       " 'German Pinscher',\n",
       " 'German Roughhaired Pointer',\n",
       " 'German Shepherd Dog',\n",
       " 'German Shorthaired Pointer',\n",
       " 'German Spaniel',\n",
       " 'German Spitz',\n",
       " 'German Wirehaired Pointer',\n",
       " 'Giant Schnauzer',\n",
       " 'Glen of Imaal Terrier',\n",
       " 'Golden Retriever',\n",
       " 'Gordon Setter',\n",
       " 'Gran Mastín de Borínquen',\n",
       " 'Grand Anglo-Français Blanc et Noir',\n",
       " 'Grand Anglo-Français Blanc et Orange',\n",
       " 'Grand Anglo-Français Tricolore',\n",
       " 'Grand Griffon Vendéen',\n",
       " 'Great Dane',\n",
       " 'Great Pyrenees',\n",
       " 'Greater Swiss Mountain Dog',\n",
       " 'Greek Harehound',\n",
       " 'Greenland Dog',\n",
       " 'Greyhound',\n",
       " 'Griffon Bleu de Gascogne',\n",
       " 'Griffon Bruxellois',\n",
       " 'Griffon Fauve de Bretagne',\n",
       " 'Griffon Nivernais',\n",
       " 'Guatemalan Dogo',\n",
       " 'Gull Terrier',\n",
       " 'Hamiltonstövare',\n",
       " 'Hanover Hound',\n",
       " 'Hare Indian Dog',\n",
       " 'Harrier',\n",
       " 'Havanese',\n",
       " 'Hawaiian Poi Dog',\n",
       " 'Himalayan Sheepdog',\n",
       " 'Hokkaido',\n",
       " 'Hortaya Borzaya',\n",
       " 'Hovawart',\n",
       " 'Huntaway',\n",
       " 'Hygenhund',\n",
       " 'Ibizan Hound',\n",
       " 'Icelandic Sheepdog',\n",
       " 'Indian pariah dog',\n",
       " 'Indian Spitz',\n",
       " 'Irish Red and White Setter',\n",
       " 'Irish Setter',\n",
       " 'Irish Terrier',\n",
       " 'Irish Water Spaniel',\n",
       " 'Irish Wolfhound',\n",
       " 'Istrian Coarse-haired Hound',\n",
       " 'Istrian Shorthaired Hound',\n",
       " 'Italian Greyhound',\n",
       " 'Jack Russell Terrier',\n",
       " 'Jagdterrier',\n",
       " 'Jämthund',\n",
       " 'Japanese Chin',\n",
       " 'Japanese Spitz',\n",
       " 'Japanese Terrier',\n",
       " 'Jonangi',\n",
       " 'Kaikadi dog',\n",
       " 'Kai Ken',\n",
       " 'Kangal Dog',\n",
       " 'Kanni',\n",
       " 'Karakachan Dog',\n",
       " 'Karelian Bear Dog',\n",
       " 'Karst Shepherd',\n",
       " 'Keeshond',\n",
       " 'Kerry Beagle',\n",
       " 'Kerry Blue Terrier',\n",
       " 'King Charles Spaniel',\n",
       " 'King Shepherd',\n",
       " 'Kintamani',\n",
       " 'Kishu Ken',\n",
       " 'Komondor',\n",
       " 'Kooikerhondje',\n",
       " 'Koolie',\n",
       " 'Korean Jindo',\n",
       " 'Kromfohrländer',\n",
       " 'Kumaon Mastiff',\n",
       " 'Kunming Wolfdog',\n",
       " 'Kurī',\n",
       " 'Kuvasz',\n",
       " 'Kyi-Leo',\n",
       " 'Labrador Husky',\n",
       " 'Labrador Retriever',\n",
       " 'Lagotto Romagnolo',\n",
       " 'Lakeland Terrier',\n",
       " 'Lancashire Heeler',\n",
       " 'Landseer',\n",
       " 'Lapponian Herder',\n",
       " 'Leonberger',\n",
       " 'Lhasa Apso',\n",
       " 'Lithuanian Hound',\n",
       " 'Löwchen',\n",
       " 'Mackenzie River Husky',\n",
       " 'Magyar Agár',\n",
       " 'Mahratta Greyhound',\n",
       " 'Majorca Ratter',\n",
       " 'Majorca Shepherd Dog',\n",
       " 'Maltese',\n",
       " 'Manchester Terrier',\n",
       " 'Maremma Sheepdog',\n",
       " 'McNab',\n",
       " 'Mexican Hairless Dog',\n",
       " 'Miniature Australian Shepherd',\n",
       " 'Miniature American Shepherd',\n",
       " 'Miniature Bull Terrier',\n",
       " 'Miniature Fox Terrier',\n",
       " 'Miniature Pinscher',\n",
       " 'Miniature Schnauzer',\n",
       " 'Miniature Shar Pei',\n",
       " 'Romanian Mioritic Shepherd Dog',\n",
       " 'Molossus',\n",
       " 'Molossus of Epirus',\n",
       " 'Montenegrin Mountain Hound',\n",
       " 'Moscow Watchdog',\n",
       " 'Moscow Water Dog',\n",
       " 'Mountain Cur',\n",
       " 'Mucuchies',\n",
       " 'Mudhol Hound',\n",
       " 'Mudi',\n",
       " 'Münsterländer, Large',\n",
       " 'Münsterländer, Small',\n",
       " 'Neapolitan Mastiff',\n",
       " 'Nepali Hill Dog',\n",
       " 'Newfoundland',\n",
       " 'New Zealand Heading Dog',\n",
       " 'Norfolk Spaniel',\n",
       " 'Norfolk Terrier',\n",
       " 'Norrbottenspets',\n",
       " 'North Country Beagle',\n",
       " 'Northern Inuit Dog',\n",
       " 'Norwegian Buhund',\n",
       " 'Norwegian Elkhound',\n",
       " 'Norwegian Lundehund',\n",
       " 'Norwich Terrier',\n",
       " 'Nova Scotia Duck Tolling Retriever',\n",
       " 'Old Croatian Sighthound',\n",
       " 'Old Danish Pointer',\n",
       " 'Old English Bulldog',\n",
       " 'Old English Sheepdog',\n",
       " 'Old English Terrier',\n",
       " 'Old German Shepherd Dog',\n",
       " 'Old Time Farm Shepherd',\n",
       " 'Olde English Bulldogge',\n",
       " 'Otterhound',\n",
       " 'Pachon Navarro',\n",
       " 'Pandikona Hunting Dog',\n",
       " 'Paisley Terrier',\n",
       " 'Papillon',\n",
       " 'Parson Russell Terrier',\n",
       " 'Patterdale Terrier',\n",
       " 'Pekingese',\n",
       " 'Perro de Presa Canario',\n",
       " 'Perro de Presa Mallorquin',\n",
       " 'Peruvian Hairless Dog',\n",
       " 'Phalène',\n",
       " 'Pharaoh Hound',\n",
       " 'Phu Quoc Ridgeback',\n",
       " 'Picardy Spaniel',\n",
       " 'Plummer Terrier',\n",
       " 'Plott Hound',\n",
       " 'Podenco Canario',\n",
       " 'Pointer',\n",
       " 'Poitevin',\n",
       " 'Polish Greyhound',\n",
       " 'Polish Hound',\n",
       " 'Polish Hunting Dog',\n",
       " 'Polish Lowland Sheepdog',\n",
       " 'Polish Tatra Sheepdog',\n",
       " 'Pomeranian',\n",
       " 'Pont-Audemer Spaniel',\n",
       " 'Poodle',\n",
       " 'Porcelaine',\n",
       " 'Portuguese Podengo',\n",
       " 'Portuguese Pointer',\n",
       " 'Portuguese Water Dog',\n",
       " 'Posavac Hound',\n",
       " 'Pražský Krysařík',\n",
       " 'Pudelpointer',\n",
       " 'Pug',\n",
       " 'Puli',\n",
       " 'Pumi',\n",
       " 'Pungsan Dog',\n",
       " 'Pyrenean Mastiff',\n",
       " 'Pyrenean Shepherd',\n",
       " 'Rafeiro do Alentejo',\n",
       " 'Rajapalayam',\n",
       " 'Rampur Greyhound',\n",
       " 'Rastreador Brasileiro',\n",
       " 'Ratonero Bodeguero Andaluz',\n",
       " 'Ratonero Murciano de Huerta',\n",
       " 'Ratonero Valenciano',\n",
       " 'Rat Terrier',\n",
       " 'Redbone Coonhound',\n",
       " 'Rhodesian Ridgeback',\n",
       " 'Rottweiler',\n",
       " 'Russian Spaniel',\n",
       " 'Russian Toy',\n",
       " 'Russian Tracker',\n",
       " 'Russo-European Laika',\n",
       " 'Russell Terrier',\n",
       " 'Saarloos Wolfdog',\n",
       " 'Sabueso Español',\n",
       " 'Sabueso fino Colombiano',\n",
       " 'Saint-Usuge Spaniel',\n",
       " 'Sakhalin Husky',\n",
       " 'Saluki',\n",
       " 'Samoyed',\n",
       " 'Sapsali',\n",
       " 'Šarplaninac',\n",
       " 'Schapendoes',\n",
       " 'Schillerstövare',\n",
       " 'Schipperke',\n",
       " 'Schweizer Laufhund',\n",
       " 'Schweizerischer Niederlaufhund',\n",
       " 'Scotch Collie',\n",
       " 'Scottish Deerhound',\n",
       " 'Scottish Terrier',\n",
       " 'Sealyham Terrier',\n",
       " 'Segugio Italiano',\n",
       " 'Seppala Siberian Sleddog',\n",
       " 'Serbian Hound',\n",
       " 'Serbian Tricolour Hound',\n",
       " 'Seskar Seal Dog',\n",
       " 'Shar Pei',\n",
       " 'Shetland Sheepdog',\n",
       " 'Shiba Inu',\n",
       " 'Shih Tzu',\n",
       " 'Shikoku',\n",
       " 'Shiloh Shepherd',\n",
       " 'Siberian Husky',\n",
       " 'Silken Windhound',\n",
       " 'Sinhala Hound',\n",
       " 'Skye Terrier',\n",
       " 'Sloughi',\n",
       " 'Slovak Cuvac',\n",
       " 'Slovakian Wirehaired Pointer',\n",
       " 'Slovenský Kopov',\n",
       " 'Smålandsstövare',\n",
       " 'Small Greek Domestic Dog',\n",
       " 'Soft-Coated Wheaten Terrier',\n",
       " 'South Russian Ovcharka',\n",
       " 'Southern Hound',\n",
       " 'Spanish Mastiff',\n",
       " 'Spanish Water Dog',\n",
       " 'Spinone Italiano',\n",
       " 'Sporting Lucas Terrier',\n",
       " 'St. Bernard',\n",
       " \"St. John's water dog\",\n",
       " 'Stabyhoun',\n",
       " 'Staffordshire Bull Terrier',\n",
       " 'Standard Schnauzer',\n",
       " 'Stephens Cur',\n",
       " 'Styrian Coarse-haired Hound',\n",
       " 'Sussex Spaniel',\n",
       " 'Swedish Lapphund',\n",
       " 'Swedish Vallhund',\n",
       " 'Tahltan Bear Dog',\n",
       " 'Taigan',\n",
       " 'Taiwan Dog',\n",
       " 'Talbot',\n",
       " 'Tamaskan Dog',\n",
       " 'Teddy Roosevelt Terrier',\n",
       " 'Telomian',\n",
       " 'Tenterfield Terrier',\n",
       " 'Terceira Mastiff',\n",
       " 'Thai Bangkaew Dog',\n",
       " 'Thai Ridgeback',\n",
       " 'Tibetan Mastiff',\n",
       " 'Tibetan Spaniel',\n",
       " 'Tibetan Terrier',\n",
       " 'Tornjak',\n",
       " 'Tosa',\n",
       " 'Toy Bulldog',\n",
       " 'Toy Fox Terrier',\n",
       " 'Toy Manchester Terrier',\n",
       " 'Toy Trawler Spaniel',\n",
       " 'Transylvanian Hound',\n",
       " 'Treeing Cur',\n",
       " 'Treeing Tennessee Brindle',\n",
       " 'Treeing Walker Coonhound',\n",
       " 'Trigg Hound',\n",
       " 'Tweed Water Spaniel',\n",
       " 'Tyrolean Hound',\n",
       " 'Cimarrón Uruguayo',\n",
       " 'Valencian Ratter',\n",
       " 'Vanjari Hound',\n",
       " 'Villano de Las Encartaciones',\n",
       " 'Villanuco de Las Encartaciones',\n",
       " 'Vizsla',\n",
       " 'Volpino Italiano',\n",
       " 'Weimaraner',\n",
       " 'Welsh Corgi, Cardigan',\n",
       " 'Welsh Corgi, Pembroke',\n",
       " 'Welsh Sheepdog',\n",
       " 'Welsh Springer Spaniel',\n",
       " 'Welsh Terrier',\n",
       " 'West Highland White Terrier',\n",
       " 'West Siberian Laika',\n",
       " 'Westphalian Dachsbracke',\n",
       " 'Wetterhoun',\n",
       " 'Whippet',\n",
       " 'White Shepherd',\n",
       " 'Wirehaired Pointing Griffon',\n",
       " 'Wirehaired Vizsla',\n",
       " 'Xiasi Dog',\n",
       " 'Yorkshire Terrier']"
      ]
     },
     "execution_count": 41,
     "metadata": {},
     "output_type": "execute_result"
    }
   ],
   "source": [
    "breeds"
   ]
  },
  {
   "cell_type": "code",
   "execution_count": 42,
   "metadata": {},
   "outputs": [
    {
     "data": {
      "text/plain": [
       "[]"
      ]
     },
     "execution_count": 42,
     "metadata": {},
     "output_type": "execute_result"
    }
   ],
   "source": [
    "errors"
   ]
  },
  {
   "cell_type": "code",
   "execution_count": 43,
   "metadata": {},
   "outputs": [],
   "source": [
    "breeds += ['Pembroke', 'Cardigan', 'toy_poodle', 'chow', 'cocker_spaniel',\n",
    "       'Eskimo_dog', 'Staffordshire_bullterrier', 'malamute', 'Pekinese',\n",
    "       'kelpie', 'miniature_poodle', 'collie', 'Boston_bull',\n",
    "       'toy_terrier', 'Shih-Tzu', 'Maltese_dog', 'bull_mastiff', 'basset', 'malinois',\n",
    "       'standard_poodle', 'Airedale', 'English_springer',\n",
    "       'dingo', 'Brittany_spaniel', 'redbone', 'Lhasa', 'German_short-haired_pointer', 'Saint_Bernard',\n",
    "          'Doberman', 'Walker_hound', 'Japanese_spaniel',\n",
    "       'Brabancon_griffon', 'black-and-tan_coonhound', 'Appenzeller', 'Blenheim_spaniel', 'groenendael', 'Dandie_Dinmont', 'Leonberg']"
   ]
  },
  {
   "cell_type": "code",
   "execution_count": 44,
   "metadata": {},
   "outputs": [],
   "source": [
    "breeds += [breed.replace('_dog', '') for breed in breeds]\n",
    "breeds = [breed.replace(' ', '_').lower() for breed in breeds]"
   ]
  },
  {
   "cell_type": "markdown",
   "metadata": {},
   "source": [
    "Now create a mask of values which are not in the list of dog breeds."
   ]
  },
  {
   "cell_type": "code",
   "execution_count": 45,
   "metadata": {},
   "outputs": [],
   "source": [
    "mask = df_predictions[df_predictions[['p1', 'p2', 'p3']].apply(lambda s: pd.Series(s.str.lower())).apply(lambda s: pd.Series(~s.isin(breeds)))]"
   ]
  },
  {
   "cell_type": "code",
   "execution_count": 46,
   "metadata": {},
   "outputs": [
    {
     "data": {
      "text/plain": [
       "Index(['German_shepherd', 'seat_belt', 'teddy', 'doormat', 'Siamese_cat',\n",
       "       'ice_bear', 'web_site', 'bath_towel', 'bathtub', 'tennis_ball',\n",
       "       ...\n",
       "       'tiger', 'sarong', 'red_wolf', 'toaster', 'steam_locomotive',\n",
       "       'African_crocodile', 'tripod', 'computer_keyboard', 'breakwater',\n",
       "       'coral_fungus'],\n",
       "      dtype='object', length=523)"
      ]
     },
     "execution_count": 46,
     "metadata": {},
     "output_type": "execute_result"
    }
   ],
   "source": [
    "mask.p1.append(mask.p2).append(mask.p3).value_counts().keys()"
   ]
  },
  {
   "cell_type": "markdown",
   "metadata": {},
   "source": [
    "A lot of values which are dogs were not in a breed list. I eyeballed them and iteratively added them to the list. There can still be some breeds missing, but that should not affect validity of data that much anymore."
   ]
  },
  {
   "cell_type": "markdown",
   "metadata": {},
   "source": [
    "Then let's apply the mask and drop rows which contain NaN values (i.e. values that are non-NaN in mask)."
   ]
  },
  {
   "cell_type": "code",
   "execution_count": 47,
   "metadata": {},
   "outputs": [],
   "source": [
    "df_pred_clean = df_predictions[mask.isnull()].dropna()"
   ]
  },
  {
   "cell_type": "code",
   "execution_count": 48,
   "metadata": {},
   "outputs": [
    {
     "data": {
      "text/plain": [
       "False"
      ]
     },
     "execution_count": 48,
     "metadata": {},
     "output_type": "execute_result"
    }
   ],
   "source": [
    "(df_pred_clean['p1'].isin(mask.p1.append(mask.p2).append(mask.p3).value_counts().head(20).keys())).any()"
   ]
  },
  {
   "cell_type": "markdown",
   "metadata": {},
   "source": [
    "Let's also normalise breed values for easier search and comparison."
   ]
  },
  {
   "cell_type": "code",
   "execution_count": 49,
   "metadata": {},
   "outputs": [],
   "source": [
    "df_pred_clean[['p1', 'p2', 'p3']] = df_pred_clean[['p1', 'p2', 'p3']].apply(lambda s: pd.Series(s.str.lower()))"
   ]
  },
  {
   "cell_type": "code",
   "execution_count": 50,
   "metadata": {},
   "outputs": [
    {
     "data": {
      "text/html": [
       "<div>\n",
       "<style scoped>\n",
       "    .dataframe tbody tr th:only-of-type {\n",
       "        vertical-align: middle;\n",
       "    }\n",
       "\n",
       "    .dataframe tbody tr th {\n",
       "        vertical-align: top;\n",
       "    }\n",
       "\n",
       "    .dataframe thead th {\n",
       "        text-align: right;\n",
       "    }\n",
       "</style>\n",
       "<table border=\"1\" class=\"dataframe\">\n",
       "  <thead>\n",
       "    <tr style=\"text-align: right;\">\n",
       "      <th></th>\n",
       "      <th>tweet_id</th>\n",
       "      <th>jpg_url</th>\n",
       "      <th>img_num</th>\n",
       "      <th>p1</th>\n",
       "      <th>p1_conf</th>\n",
       "      <th>p1_dog</th>\n",
       "      <th>p2</th>\n",
       "      <th>p2_conf</th>\n",
       "      <th>p2_dog</th>\n",
       "      <th>p3</th>\n",
       "      <th>p3_conf</th>\n",
       "      <th>p3_dog</th>\n",
       "    </tr>\n",
       "  </thead>\n",
       "  <tbody>\n",
       "    <tr>\n",
       "      <th>0</th>\n",
       "      <td>666020888022790149</td>\n",
       "      <td>https://pbs.twimg.com/media/CT4udn0WwAA0aMy.jpg</td>\n",
       "      <td>1</td>\n",
       "      <td>welsh_springer_spaniel</td>\n",
       "      <td>0.465074</td>\n",
       "      <td>True</td>\n",
       "      <td>collie</td>\n",
       "      <td>0.156665</td>\n",
       "      <td>True</td>\n",
       "      <td>shetland_sheepdog</td>\n",
       "      <td>0.061428</td>\n",
       "      <td>True</td>\n",
       "    </tr>\n",
       "    <tr>\n",
       "      <th>1</th>\n",
       "      <td>666029285002620928</td>\n",
       "      <td>https://pbs.twimg.com/media/CT42GRgUYAA5iDo.jpg</td>\n",
       "      <td>1</td>\n",
       "      <td>redbone</td>\n",
       "      <td>0.506826</td>\n",
       "      <td>True</td>\n",
       "      <td>miniature_pinscher</td>\n",
       "      <td>0.074192</td>\n",
       "      <td>True</td>\n",
       "      <td>rhodesian_ridgeback</td>\n",
       "      <td>0.072010</td>\n",
       "      <td>True</td>\n",
       "    </tr>\n",
       "    <tr>\n",
       "      <th>3</th>\n",
       "      <td>666044226329800704</td>\n",
       "      <td>https://pbs.twimg.com/media/CT5Dr8HUEAA-lEu.jpg</td>\n",
       "      <td>1</td>\n",
       "      <td>rhodesian_ridgeback</td>\n",
       "      <td>0.408143</td>\n",
       "      <td>True</td>\n",
       "      <td>redbone</td>\n",
       "      <td>0.360687</td>\n",
       "      <td>True</td>\n",
       "      <td>miniature_pinscher</td>\n",
       "      <td>0.222752</td>\n",
       "      <td>True</td>\n",
       "    </tr>\n",
       "    <tr>\n",
       "      <th>4</th>\n",
       "      <td>666049248165822465</td>\n",
       "      <td>https://pbs.twimg.com/media/CT5IQmsXIAAKY4A.jpg</td>\n",
       "      <td>1</td>\n",
       "      <td>miniature_pinscher</td>\n",
       "      <td>0.560311</td>\n",
       "      <td>True</td>\n",
       "      <td>rottweiler</td>\n",
       "      <td>0.243682</td>\n",
       "      <td>True</td>\n",
       "      <td>doberman</td>\n",
       "      <td>0.154629</td>\n",
       "      <td>True</td>\n",
       "    </tr>\n",
       "    <tr>\n",
       "      <th>5</th>\n",
       "      <td>666050758794694657</td>\n",
       "      <td>https://pbs.twimg.com/media/CT5Jof1WUAEuVxN.jpg</td>\n",
       "      <td>1</td>\n",
       "      <td>bernese_mountain_dog</td>\n",
       "      <td>0.651137</td>\n",
       "      <td>True</td>\n",
       "      <td>english_springer</td>\n",
       "      <td>0.263788</td>\n",
       "      <td>True</td>\n",
       "      <td>greater_swiss_mountain_dog</td>\n",
       "      <td>0.016199</td>\n",
       "      <td>True</td>\n",
       "    </tr>\n",
       "  </tbody>\n",
       "</table>\n",
       "</div>"
      ],
      "text/plain": [
       "             tweet_id                                          jpg_url  \\\n",
       "0  666020888022790149  https://pbs.twimg.com/media/CT4udn0WwAA0aMy.jpg   \n",
       "1  666029285002620928  https://pbs.twimg.com/media/CT42GRgUYAA5iDo.jpg   \n",
       "3  666044226329800704  https://pbs.twimg.com/media/CT5Dr8HUEAA-lEu.jpg   \n",
       "4  666049248165822465  https://pbs.twimg.com/media/CT5IQmsXIAAKY4A.jpg   \n",
       "5  666050758794694657  https://pbs.twimg.com/media/CT5Jof1WUAEuVxN.jpg   \n",
       "\n",
       "   img_num                      p1   p1_conf  p1_dog                  p2  \\\n",
       "0        1  welsh_springer_spaniel  0.465074    True              collie   \n",
       "1        1                 redbone  0.506826    True  miniature_pinscher   \n",
       "3        1     rhodesian_ridgeback  0.408143    True             redbone   \n",
       "4        1      miniature_pinscher  0.560311    True          rottweiler   \n",
       "5        1    bernese_mountain_dog  0.651137    True    english_springer   \n",
       "\n",
       "    p2_conf  p2_dog                          p3   p3_conf  p3_dog  \n",
       "0  0.156665    True           shetland_sheepdog  0.061428    True  \n",
       "1  0.074192    True         rhodesian_ridgeback  0.072010    True  \n",
       "3  0.360687    True          miniature_pinscher  0.222752    True  \n",
       "4  0.243682    True                    doberman  0.154629    True  \n",
       "5  0.263788    True  greater_swiss_mountain_dog  0.016199    True  "
      ]
     },
     "execution_count": 50,
     "metadata": {},
     "output_type": "execute_result"
    }
   ],
   "source": [
    "df_pred_clean.head()"
   ]
  },
  {
   "cell_type": "markdown",
   "metadata": {},
   "source": [
    "## Tidiness Improvements"
   ]
  },
  {
   "cell_type": "markdown",
   "metadata": {},
   "source": [
    "1. Dog types have been joined previously during data quality improvements, so let's just drop them."
   ]
  },
  {
   "cell_type": "code",
   "execution_count": 51,
   "metadata": {},
   "outputs": [],
   "source": [
    "df_main_clean.drop(['doggo', 'floofer', 'pupper', 'puppo'], axis=1, inplace=True)"
   ]
  },
  {
   "cell_type": "markdown",
   "metadata": {},
   "source": [
    "2. Let's merge all dog-related data into one `dt_dog_data` table."
   ]
  },
  {
   "cell_type": "code",
   "execution_count": 52,
   "metadata": {},
   "outputs": [
    {
     "data": {
      "text/html": [
       "<div>\n",
       "<style scoped>\n",
       "    .dataframe tbody tr th:only-of-type {\n",
       "        vertical-align: middle;\n",
       "    }\n",
       "\n",
       "    .dataframe tbody tr th {\n",
       "        vertical-align: top;\n",
       "    }\n",
       "\n",
       "    .dataframe thead th {\n",
       "        text-align: right;\n",
       "    }\n",
       "</style>\n",
       "<table border=\"1\" class=\"dataframe\">\n",
       "  <thead>\n",
       "    <tr style=\"text-align: right;\">\n",
       "      <th></th>\n",
       "      <th>tweet_id</th>\n",
       "      <th>timestamp</th>\n",
       "      <th>text</th>\n",
       "      <th>rating_numerator</th>\n",
       "      <th>rating_denominator</th>\n",
       "      <th>name</th>\n",
       "      <th>dog_type</th>\n",
       "    </tr>\n",
       "  </thead>\n",
       "  <tbody>\n",
       "    <tr>\n",
       "      <th>0</th>\n",
       "      <td>892420643555336193</td>\n",
       "      <td>1501604636</td>\n",
       "      <td>This is Phineas. He's a mystical boy. Only eve...</td>\n",
       "      <td>13</td>\n",
       "      <td>10</td>\n",
       "      <td>Phineas</td>\n",
       "      <td>NaN</td>\n",
       "    </tr>\n",
       "  </tbody>\n",
       "</table>\n",
       "</div>"
      ],
      "text/plain": [
       "             tweet_id   timestamp  \\\n",
       "0  892420643555336193  1501604636   \n",
       "\n",
       "                                                text  rating_numerator  \\\n",
       "0  This is Phineas. He's a mystical boy. Only eve...                13   \n",
       "\n",
       "   rating_denominator     name dog_type  \n",
       "0                  10  Phineas      NaN  "
      ]
     },
     "execution_count": 52,
     "metadata": {},
     "output_type": "execute_result"
    }
   ],
   "source": [
    "df_main_clean.head(1)"
   ]
  },
  {
   "cell_type": "code",
   "execution_count": 53,
   "metadata": {},
   "outputs": [
    {
     "data": {
      "text/html": [
       "<div>\n",
       "<style scoped>\n",
       "    .dataframe tbody tr th:only-of-type {\n",
       "        vertical-align: middle;\n",
       "    }\n",
       "\n",
       "    .dataframe tbody tr th {\n",
       "        vertical-align: top;\n",
       "    }\n",
       "\n",
       "    .dataframe thead th {\n",
       "        text-align: right;\n",
       "    }\n",
       "</style>\n",
       "<table border=\"1\" class=\"dataframe\">\n",
       "  <thead>\n",
       "    <tr style=\"text-align: right;\">\n",
       "      <th></th>\n",
       "      <th>tweet_id</th>\n",
       "      <th>jpg_url</th>\n",
       "      <th>img_num</th>\n",
       "      <th>p1</th>\n",
       "      <th>p1_conf</th>\n",
       "      <th>p1_dog</th>\n",
       "      <th>p2</th>\n",
       "      <th>p2_conf</th>\n",
       "      <th>p2_dog</th>\n",
       "      <th>p3</th>\n",
       "      <th>p3_conf</th>\n",
       "      <th>p3_dog</th>\n",
       "    </tr>\n",
       "  </thead>\n",
       "  <tbody>\n",
       "    <tr>\n",
       "      <th>0</th>\n",
       "      <td>666020888022790149</td>\n",
       "      <td>https://pbs.twimg.com/media/CT4udn0WwAA0aMy.jpg</td>\n",
       "      <td>1</td>\n",
       "      <td>welsh_springer_spaniel</td>\n",
       "      <td>0.465074</td>\n",
       "      <td>True</td>\n",
       "      <td>collie</td>\n",
       "      <td>0.156665</td>\n",
       "      <td>True</td>\n",
       "      <td>shetland_sheepdog</td>\n",
       "      <td>0.061428</td>\n",
       "      <td>True</td>\n",
       "    </tr>\n",
       "  </tbody>\n",
       "</table>\n",
       "</div>"
      ],
      "text/plain": [
       "             tweet_id                                          jpg_url  \\\n",
       "0  666020888022790149  https://pbs.twimg.com/media/CT4udn0WwAA0aMy.jpg   \n",
       "\n",
       "   img_num                      p1   p1_conf  p1_dog      p2   p2_conf  \\\n",
       "0        1  welsh_springer_spaniel  0.465074    True  collie  0.156665   \n",
       "\n",
       "   p2_dog                 p3   p3_conf  p3_dog  \n",
       "0    True  shetland_sheepdog  0.061428    True  "
      ]
     },
     "execution_count": 53,
     "metadata": {},
     "output_type": "execute_result"
    }
   ],
   "source": [
    "df_pred_clean.head(1)"
   ]
  },
  {
   "cell_type": "code",
   "execution_count": 54,
   "metadata": {},
   "outputs": [],
   "source": [
    "df_dog_data = df_main_clean[['tweet_id', 'rating_numerator', 'rating_denominator', 'name', 'dog_type']].set_index('tweet_id').join(df_pred_clean.set_index('tweet_id'))"
   ]
  },
  {
   "cell_type": "code",
   "execution_count": 55,
   "metadata": {},
   "outputs": [],
   "source": [
    "df_dog_data = df_dog_data.dropna()"
   ]
  },
  {
   "cell_type": "code",
   "execution_count": 56,
   "metadata": {},
   "outputs": [
    {
     "data": {
      "text/html": [
       "<div>\n",
       "<style scoped>\n",
       "    .dataframe tbody tr th:only-of-type {\n",
       "        vertical-align: middle;\n",
       "    }\n",
       "\n",
       "    .dataframe tbody tr th {\n",
       "        vertical-align: top;\n",
       "    }\n",
       "\n",
       "    .dataframe thead th {\n",
       "        text-align: right;\n",
       "    }\n",
       "</style>\n",
       "<table border=\"1\" class=\"dataframe\">\n",
       "  <thead>\n",
       "    <tr style=\"text-align: right;\">\n",
       "      <th></th>\n",
       "      <th>rating_numerator</th>\n",
       "      <th>rating_denominator</th>\n",
       "      <th>name</th>\n",
       "      <th>dog_type</th>\n",
       "      <th>jpg_url</th>\n",
       "      <th>img_num</th>\n",
       "      <th>p1</th>\n",
       "      <th>p1_conf</th>\n",
       "      <th>p1_dog</th>\n",
       "      <th>p2</th>\n",
       "      <th>p2_conf</th>\n",
       "      <th>p2_dog</th>\n",
       "      <th>p3</th>\n",
       "      <th>p3_conf</th>\n",
       "      <th>p3_dog</th>\n",
       "    </tr>\n",
       "    <tr>\n",
       "      <th>tweet_id</th>\n",
       "      <th></th>\n",
       "      <th></th>\n",
       "      <th></th>\n",
       "      <th></th>\n",
       "      <th></th>\n",
       "      <th></th>\n",
       "      <th></th>\n",
       "      <th></th>\n",
       "      <th></th>\n",
       "      <th></th>\n",
       "      <th></th>\n",
       "      <th></th>\n",
       "      <th></th>\n",
       "      <th></th>\n",
       "      <th></th>\n",
       "    </tr>\n",
       "  </thead>\n",
       "  <tbody>\n",
       "    <tr>\n",
       "      <th>890240255349198849</th>\n",
       "      <td>14</td>\n",
       "      <td>10</td>\n",
       "      <td>Cassie</td>\n",
       "      <td>doggo</td>\n",
       "      <td>https://pbs.twimg.com/media/DFrEyVuW0AAO3t9.jpg</td>\n",
       "      <td>1.0</td>\n",
       "      <td>pembroke</td>\n",
       "      <td>0.511319</td>\n",
       "      <td>True</td>\n",
       "      <td>cardigan</td>\n",
       "      <td>0.451038</td>\n",
       "      <td>True</td>\n",
       "      <td>chihuahua</td>\n",
       "      <td>0.029248</td>\n",
       "      <td>True</td>\n",
       "    </tr>\n",
       "    <tr>\n",
       "      <th>889665388333682689</th>\n",
       "      <td>13</td>\n",
       "      <td>10</td>\n",
       "      <td>None</td>\n",
       "      <td>puppo</td>\n",
       "      <td>https://pbs.twimg.com/media/DFi579UWsAAatzw.jpg</td>\n",
       "      <td>1.0</td>\n",
       "      <td>pembroke</td>\n",
       "      <td>0.966327</td>\n",
       "      <td>True</td>\n",
       "      <td>cardigan</td>\n",
       "      <td>0.027356</td>\n",
       "      <td>True</td>\n",
       "      <td>basenji</td>\n",
       "      <td>0.004633</td>\n",
       "      <td>True</td>\n",
       "    </tr>\n",
       "    <tr>\n",
       "      <th>889531135344209921</th>\n",
       "      <td>13</td>\n",
       "      <td>10</td>\n",
       "      <td>Stuart</td>\n",
       "      <td>puppo</td>\n",
       "      <td>https://pbs.twimg.com/media/DFg_2PVW0AEHN3p.jpg</td>\n",
       "      <td>1.0</td>\n",
       "      <td>golden_retriever</td>\n",
       "      <td>0.953442</td>\n",
       "      <td>True</td>\n",
       "      <td>labrador_retriever</td>\n",
       "      <td>0.013834</td>\n",
       "      <td>True</td>\n",
       "      <td>redbone</td>\n",
       "      <td>0.007958</td>\n",
       "      <td>True</td>\n",
       "    </tr>\n",
       "    <tr>\n",
       "      <th>886366144734445568</th>\n",
       "      <td>12</td>\n",
       "      <td>10</td>\n",
       "      <td>Roscoe</td>\n",
       "      <td>pupper</td>\n",
       "      <td>https://pbs.twimg.com/media/DE0BTnQUwAApKEH.jpg</td>\n",
       "      <td>1.0</td>\n",
       "      <td>french_bulldog</td>\n",
       "      <td>0.999201</td>\n",
       "      <td>True</td>\n",
       "      <td>chihuahua</td>\n",
       "      <td>0.000361</td>\n",
       "      <td>True</td>\n",
       "      <td>boston_bull</td>\n",
       "      <td>0.000076</td>\n",
       "      <td>True</td>\n",
       "    </tr>\n",
       "    <tr>\n",
       "      <th>883360690899218434</th>\n",
       "      <td>13</td>\n",
       "      <td>10</td>\n",
       "      <td>Grizzwald</td>\n",
       "      <td>floofer</td>\n",
       "      <td>https://pbs.twimg.com/media/DEJT3FeXoAAtwUy.jpg</td>\n",
       "      <td>1.0</td>\n",
       "      <td>chow</td>\n",
       "      <td>0.987997</td>\n",
       "      <td>True</td>\n",
       "      <td>tibetan_mastiff</td>\n",
       "      <td>0.007099</td>\n",
       "      <td>True</td>\n",
       "      <td>newfoundland</td>\n",
       "      <td>0.002140</td>\n",
       "      <td>True</td>\n",
       "    </tr>\n",
       "  </tbody>\n",
       "</table>\n",
       "</div>"
      ],
      "text/plain": [
       "                    rating_numerator  rating_denominator       name dog_type  \\\n",
       "tweet_id                                                                       \n",
       "890240255349198849                14                  10     Cassie    doggo   \n",
       "889665388333682689                13                  10       None    puppo   \n",
       "889531135344209921                13                  10     Stuart    puppo   \n",
       "886366144734445568                12                  10     Roscoe   pupper   \n",
       "883360690899218434                13                  10  Grizzwald  floofer   \n",
       "\n",
       "                                                            jpg_url  img_num  \\\n",
       "tweet_id                                                                       \n",
       "890240255349198849  https://pbs.twimg.com/media/DFrEyVuW0AAO3t9.jpg      1.0   \n",
       "889665388333682689  https://pbs.twimg.com/media/DFi579UWsAAatzw.jpg      1.0   \n",
       "889531135344209921  https://pbs.twimg.com/media/DFg_2PVW0AEHN3p.jpg      1.0   \n",
       "886366144734445568  https://pbs.twimg.com/media/DE0BTnQUwAApKEH.jpg      1.0   \n",
       "883360690899218434  https://pbs.twimg.com/media/DEJT3FeXoAAtwUy.jpg      1.0   \n",
       "\n",
       "                                  p1   p1_conf p1_dog                  p2  \\\n",
       "tweet_id                                                                    \n",
       "890240255349198849          pembroke  0.511319   True            cardigan   \n",
       "889665388333682689          pembroke  0.966327   True            cardigan   \n",
       "889531135344209921  golden_retriever  0.953442   True  labrador_retriever   \n",
       "886366144734445568    french_bulldog  0.999201   True           chihuahua   \n",
       "883360690899218434              chow  0.987997   True     tibetan_mastiff   \n",
       "\n",
       "                     p2_conf p2_dog            p3   p3_conf p3_dog  \n",
       "tweet_id                                                            \n",
       "890240255349198849  0.451038   True     chihuahua  0.029248   True  \n",
       "889665388333682689  0.027356   True       basenji  0.004633   True  \n",
       "889531135344209921  0.013834   True       redbone  0.007958   True  \n",
       "886366144734445568  0.000361   True   boston_bull  0.000076   True  \n",
       "883360690899218434  0.007099   True  newfoundland  0.002140   True  "
      ]
     },
     "execution_count": 56,
     "metadata": {},
     "output_type": "execute_result"
    }
   ],
   "source": [
    "df_dog_data.head()"
   ]
  },
  {
   "cell_type": "code",
   "execution_count": 57,
   "metadata": {},
   "outputs": [
    {
     "data": {
      "text/plain": [
       "(0, 15)"
      ]
     },
     "execution_count": 57,
     "metadata": {},
     "output_type": "execute_result"
    }
   ],
   "source": [
    "df_dog_data[df_dog_data.rating_denominator != 10].shape"
   ]
  },
  {
   "cell_type": "markdown",
   "metadata": {},
   "source": [
    "Let's move tweet text and a timestamp to `df_tweet_data`."
   ]
  },
  {
   "cell_type": "code",
   "execution_count": 58,
   "metadata": {},
   "outputs": [
    {
     "data": {
      "text/html": [
       "<div>\n",
       "<style scoped>\n",
       "    .dataframe tbody tr th:only-of-type {\n",
       "        vertical-align: middle;\n",
       "    }\n",
       "\n",
       "    .dataframe tbody tr th {\n",
       "        vertical-align: top;\n",
       "    }\n",
       "\n",
       "    .dataframe thead th {\n",
       "        text-align: right;\n",
       "    }\n",
       "</style>\n",
       "<table border=\"1\" class=\"dataframe\">\n",
       "  <thead>\n",
       "    <tr style=\"text-align: right;\">\n",
       "      <th></th>\n",
       "      <th>tweet_id</th>\n",
       "      <th>likes</th>\n",
       "      <th>retweets</th>\n",
       "      <th>text</th>\n",
       "      <th>timestamp</th>\n",
       "    </tr>\n",
       "  </thead>\n",
       "  <tbody>\n",
       "    <tr>\n",
       "      <th>0</th>\n",
       "      <td>892420643555336193</td>\n",
       "      <td>38198</td>\n",
       "      <td>8368</td>\n",
       "      <td>This is Phineas. He's a mystical boy. Only eve...</td>\n",
       "      <td>1.501605e+09</td>\n",
       "    </tr>\n",
       "    <tr>\n",
       "      <th>1</th>\n",
       "      <td>892177421306343426</td>\n",
       "      <td>32751</td>\n",
       "      <td>6178</td>\n",
       "      <td>This is Tilly. She's just checking pup on you....</td>\n",
       "      <td>1.501547e+09</td>\n",
       "    </tr>\n",
       "    <tr>\n",
       "      <th>2</th>\n",
       "      <td>891815181378084864</td>\n",
       "      <td>24667</td>\n",
       "      <td>4089</td>\n",
       "      <td>This is Archie. He is a rare Norwegian Pouncin...</td>\n",
       "      <td>1.501460e+09</td>\n",
       "    </tr>\n",
       "    <tr>\n",
       "      <th>3</th>\n",
       "      <td>891689557279858688</td>\n",
       "      <td>41524</td>\n",
       "      <td>8495</td>\n",
       "      <td>This is Darla. She commenced a snooze mid meal...</td>\n",
       "      <td>1.501430e+09</td>\n",
       "    </tr>\n",
       "    <tr>\n",
       "      <th>4</th>\n",
       "      <td>891327558926688256</td>\n",
       "      <td>39715</td>\n",
       "      <td>9208</td>\n",
       "      <td>This is Franklin. He would like you to stop ca...</td>\n",
       "      <td>1.501344e+09</td>\n",
       "    </tr>\n",
       "  </tbody>\n",
       "</table>\n",
       "</div>"
      ],
      "text/plain": [
       "             tweet_id  likes  retweets  \\\n",
       "0  892420643555336193  38198      8368   \n",
       "1  892177421306343426  32751      6178   \n",
       "2  891815181378084864  24667      4089   \n",
       "3  891689557279858688  41524      8495   \n",
       "4  891327558926688256  39715      9208   \n",
       "\n",
       "                                                text     timestamp  \n",
       "0  This is Phineas. He's a mystical boy. Only eve...  1.501605e+09  \n",
       "1  This is Tilly. She's just checking pup on you....  1.501547e+09  \n",
       "2  This is Archie. He is a rare Norwegian Pouncin...  1.501460e+09  \n",
       "3  This is Darla. She commenced a snooze mid meal...  1.501430e+09  \n",
       "4  This is Franklin. He would like you to stop ca...  1.501344e+09  "
      ]
     },
     "execution_count": 58,
     "metadata": {},
     "output_type": "execute_result"
    }
   ],
   "source": [
    "df_tweet_data[['text', 'timestamp']] = df_main_clean[['text', 'timestamp']]\n",
    "df_tweet_data.head()"
   ]
  },
  {
   "cell_type": "markdown",
   "metadata": {},
   "source": [
    "Let's export the data to csv files."
   ]
  },
  {
   "cell_type": "code",
   "execution_count": 74,
   "metadata": {},
   "outputs": [],
   "source": [
    "df_dog_data.to_csv('twitter_archive_master.csv')\n",
    "df_tweet_data.to_csv('tweet_data.csv')"
   ]
  },
  {
   "cell_type": "markdown",
   "metadata": {},
   "source": [
    "# Analysis"
   ]
  },
  {
   "cell_type": "markdown",
   "metadata": {},
   "source": [
    "Let's see which breeds get the highest ratings. For that let's calculate an average rating for each breed which has appropriate confidence of detection, 0.75 or 75%."
   ]
  },
  {
   "cell_type": "code",
   "execution_count": 60,
   "metadata": {},
   "outputs": [],
   "source": [
    "df_dog_data_conf = df_dog_data[df_dog_data.p1_conf > 0.75]"
   ]
  },
  {
   "cell_type": "code",
   "execution_count": 61,
   "metadata": {},
   "outputs": [],
   "source": [
    "def extractRatingByParameter(df):\n",
    "    ratings = dict()\n",
    "\n",
    "    def reduceRatingsToSeries(ser):\n",
    "        if ser[1] in ratings.keys():\n",
    "            ratings[ser[1]] = ratings[ser[1]].append(pd.Series(ser[0])) \n",
    "        else:\n",
    "            ratings[ser[1]] = pd.Series(ser[0])\n",
    "    \n",
    "    df.apply(reduceRatingsToSeries, axis=1)\n",
    "    return ratings"
   ]
  },
  {
   "cell_type": "code",
   "execution_count": 62,
   "metadata": {},
   "outputs": [],
   "source": [
    "def calculateAndSort(d, method = 'mean'):\n",
    "    calcs = {x:getattr(d[x], method)() for x in d.keys()}\n",
    "    return sorted(calcs.keys(), key=lambda dn: calcs[dn], reverse=True), calcs\n",
    "\n",
    "def calculateAndSortAlpha(d, method = 'mean'):\n",
    "    calcs = {x:getattr(d[x], method)() for x in d.keys()}\n",
    "    return sorted(calcs.keys()), calcs"
   ]
  },
  {
   "cell_type": "code",
   "execution_count": 65,
   "metadata": {},
   "outputs": [
    {
     "name": "stdout",
     "output_type": "stream",
     "text": [
      "chow 13.0\n",
      "cardigan 13.0\n",
      "siberian_husky 13.0\n",
      "briard 13.0\n",
      "staffordshire_bullterrier 13.0\n",
      "samoyed 13.0\n",
      "chihuahua 13.0\n",
      "french_bulldog 12.5\n",
      "shetland_sheepdog 12.0\n",
      "malamute 12.0\n",
      "golden_retriever 11.875\n",
      "pembroke 11.8\n",
      "american_staffordshire_terrier 11.5\n",
      "pomeranian 11.375\n",
      "labrador_retriever 11.333333333333334\n",
      "great_pyrenees 11.0\n",
      "dalmatian 11.0\n",
      "papillon 11.0\n",
      "toy_poodle 11.0\n",
      "lakeland_terrier 11.0\n",
      "pug 10.6\n",
      "miniature_pinscher 10.5\n",
      "bernese_mountain_dog 10.0\n",
      "cocker_spaniel 10.0\n",
      "maltese_dog 10.0\n",
      "german_short-haired_pointer 10.0\n",
      "blenheim_spaniel 9.0\n",
      "boxer 9.0\n",
      "whippet 9.0\n"
     ]
    }
   ],
   "source": [
    "breed_ratings = extractRatingByParameter(df_dog_data_conf[['rating_numerator', 'p1']])\n",
    "sorted_breeds, breed_ratings_mean = calculateAndSort(breed_ratings)\n",
    "for b in sorted_breeds:\n",
    "    print(b, breed_ratings_mean[b])"
   ]
  },
  {
   "cell_type": "markdown",
   "metadata": {},
   "source": [
    "Next, let's run some number crunching on a joined `df_dog_data` and `df_tweet_data` and see if the rating correlates with the number of likes and retweets through scatter plots and linear regression."
   ]
  },
  {
   "cell_type": "code",
   "execution_count": 66,
   "metadata": {},
   "outputs": [
    {
     "name": "stderr",
     "output_type": "stream",
     "text": [
      "/anaconda3/lib/python3.6/site-packages/scipy/stats/stats.py:1394: UserWarning: kurtosistest only valid for n>=20 ... continuing anyway, n=19\n",
      "  \"anyway, n=%i\" % int(n))\n"
     ]
    },
    {
     "data": {
      "text/html": [
       "<table class=\"simpletable\">\n",
       "<caption>OLS Regression Results</caption>\n",
       "<tr>\n",
       "  <th>Dep. Variable:</th>          <td>likes</td>      <th>  R-squared:         </th> <td>   0.207</td>\n",
       "</tr>\n",
       "<tr>\n",
       "  <th>Model:</th>                   <td>OLS</td>       <th>  Adj. R-squared:    </th> <td>   0.161</td>\n",
       "</tr>\n",
       "<tr>\n",
       "  <th>Method:</th>             <td>Least Squares</td>  <th>  F-statistic:       </th> <td>   4.449</td>\n",
       "</tr>\n",
       "<tr>\n",
       "  <th>Date:</th>             <td>Sun, 09 Dec 2018</td> <th>  Prob (F-statistic):</th>  <td>0.0500</td> \n",
       "</tr>\n",
       "<tr>\n",
       "  <th>Time:</th>                 <td>11:40:11</td>     <th>  Log-Likelihood:    </th> <td> -209.13</td>\n",
       "</tr>\n",
       "<tr>\n",
       "  <th>No. Observations:</th>      <td>    19</td>      <th>  AIC:               </th> <td>   422.3</td>\n",
       "</tr>\n",
       "<tr>\n",
       "  <th>Df Residuals:</th>          <td>    17</td>      <th>  BIC:               </th> <td>   424.2</td>\n",
       "</tr>\n",
       "<tr>\n",
       "  <th>Df Model:</th>              <td>     1</td>      <th>                     </th>     <td> </td>   \n",
       "</tr>\n",
       "<tr>\n",
       "  <th>Covariance Type:</th>      <td>nonrobust</td>    <th>                     </th>     <td> </td>   \n",
       "</tr>\n",
       "</table>\n",
       "<table class=\"simpletable\">\n",
       "<tr>\n",
       "      <td></td>         <th>coef</th>     <th>std err</th>      <th>t</th>      <th>P>|t|</th>  <th>[0.025</th>    <th>0.975]</th>  \n",
       "</tr>\n",
       "<tr>\n",
       "  <th>ratings</th>   <td> 6976.8962</td> <td> 3307.608</td> <td>    2.109</td> <td> 0.050</td> <td>   -1.547</td> <td>  1.4e+04</td>\n",
       "</tr>\n",
       "<tr>\n",
       "  <th>intercept</th> <td>-6.171e+04</td> <td> 3.91e+04</td> <td>   -1.577</td> <td> 0.133</td> <td>-1.44e+05</td> <td> 2.09e+04</td>\n",
       "</tr>\n",
       "</table>\n",
       "<table class=\"simpletable\">\n",
       "<tr>\n",
       "  <th>Omnibus:</th>       <td>15.823</td> <th>  Durbin-Watson:     </th> <td>   2.173</td>\n",
       "</tr>\n",
       "<tr>\n",
       "  <th>Prob(Omnibus):</th> <td> 0.000</td> <th>  Jarque-Bera (JB):  </th> <td>  15.341</td>\n",
       "</tr>\n",
       "<tr>\n",
       "  <th>Skew:</th>          <td> 1.603</td> <th>  Prob(JB):          </th> <td>0.000466</td>\n",
       "</tr>\n",
       "<tr>\n",
       "  <th>Kurtosis:</th>      <td> 6.017</td> <th>  Cond. No.          </th> <td>    132.</td>\n",
       "</tr>\n",
       "</table><br/><br/>Warnings:<br/>[1] Standard Errors assume that the covariance matrix of the errors is correctly specified."
      ],
      "text/plain": [
       "<class 'statsmodels.iolib.summary.Summary'>\n",
       "\"\"\"\n",
       "                            OLS Regression Results                            \n",
       "==============================================================================\n",
       "Dep. Variable:                  likes   R-squared:                       0.207\n",
       "Model:                            OLS   Adj. R-squared:                  0.161\n",
       "Method:                 Least Squares   F-statistic:                     4.449\n",
       "Date:                Sun, 09 Dec 2018   Prob (F-statistic):             0.0500\n",
       "Time:                        11:40:11   Log-Likelihood:                -209.13\n",
       "No. Observations:                  19   AIC:                             422.3\n",
       "Df Residuals:                      17   BIC:                             424.2\n",
       "Df Model:                           1                                         \n",
       "Covariance Type:            nonrobust                                         \n",
       "==============================================================================\n",
       "                 coef    std err          t      P>|t|      [0.025      0.975]\n",
       "------------------------------------------------------------------------------\n",
       "ratings     6976.8962   3307.608      2.109      0.050      -1.547     1.4e+04\n",
       "intercept  -6.171e+04   3.91e+04     -1.577      0.133   -1.44e+05    2.09e+04\n",
       "==============================================================================\n",
       "Omnibus:                       15.823   Durbin-Watson:                   2.173\n",
       "Prob(Omnibus):                  0.000   Jarque-Bera (JB):               15.341\n",
       "Skew:                           1.603   Prob(JB):                     0.000466\n",
       "Kurtosis:                       6.017   Cond. No.                         132.\n",
       "==============================================================================\n",
       "\n",
       "Warnings:\n",
       "[1] Standard Errors assume that the covariance matrix of the errors is correctly specified.\n",
       "\"\"\""
      ]
     },
     "execution_count": 66,
     "metadata": {},
     "output_type": "execute_result"
    }
   ],
   "source": [
    "breed_likes = extractRatingByParameter(df_dog_data_conf.join(df_tweet_data.set_index('tweet_id'))[['likes', 'p1']])\n",
    "breed_retweets = extractRatingByParameter(df_dog_data_conf.join(df_tweet_data.set_index('tweet_id'))[['retweets', 'p1']])\n",
    "\n",
    "breeds, mean_ratings = calculateAndSortAlpha(breed_ratings)\n",
    "breeds, mean_likes = calculateAndSortAlpha(breed_likes)\n",
    "breeds, mean_retweets = calculateAndSortAlpha(breed_retweets)\n",
    "\n",
    "df_mean_ratings_likes = pd.DataFrame({'breed': breeds,\n",
    "                                      'ratings': list(mean_ratings.values()),\n",
    "                                      'likes': list(mean_likes.values()),\n",
    "                                      'retweets': list(mean_retweets.values())})\n",
    "\n",
    "df_mean_ratings_likes = df_mean_ratings_likes.dropna()\n",
    "\n",
    "df_mean_ratings_likes['intercept'] = 1\n",
    "sm.OLS(df_mean_ratings_likes['likes'], df_mean_ratings_likes[['ratings', 'intercept']], missing='drop').fit().summary()"
   ]
  },
  {
   "cell_type": "code",
   "execution_count": 67,
   "metadata": {},
   "outputs": [
    {
     "data": {
      "image/png": "[encoded data removed]",
      "text/plain": [
       "<Figure size 432x288 with 1 Axes>"
      ]
     },
     "metadata": {},
     "output_type": "display_data"
    }
   ],
   "source": [
    "plt.scatter(df_mean_ratings_likes.ratings, df_mean_ratings_likes.likes);\n",
    "plt.plot(df_mean_ratings_likes.ratings, df_mean_ratings_likes.ratings * 6977 - 61710, color='red');\n",
    "plt.xlabel('Average Rating');\n",
    "plt.ylabel('Average Likes');"
   ]
  },
  {
   "cell_type": "markdown",
   "metadata": {},
   "source": [
    "P-value is quite small, 5%, so we can say they do weakly correlate and the relation is statistically significant. Now let's see if it holds for retweets."
   ]
  },
  {
   "cell_type": "code",
   "execution_count": 68,
   "metadata": {},
   "outputs": [
    {
     "name": "stderr",
     "output_type": "stream",
     "text": [
      "/anaconda3/lib/python3.6/site-packages/scipy/stats/stats.py:1394: UserWarning: kurtosistest only valid for n>=20 ... continuing anyway, n=19\n",
      "  \"anyway, n=%i\" % int(n))\n"
     ]
    },
    {
     "data": {
      "text/html": [
       "<table class=\"simpletable\">\n",
       "<caption>OLS Regression Results</caption>\n",
       "<tr>\n",
       "  <th>Dep. Variable:</th>        <td>retweets</td>     <th>  R-squared:         </th> <td>   0.172</td>\n",
       "</tr>\n",
       "<tr>\n",
       "  <th>Model:</th>                   <td>OLS</td>       <th>  Adj. R-squared:    </th> <td>   0.123</td>\n",
       "</tr>\n",
       "<tr>\n",
       "  <th>Method:</th>             <td>Least Squares</td>  <th>  F-statistic:       </th> <td>   3.530</td>\n",
       "</tr>\n",
       "<tr>\n",
       "  <th>Date:</th>             <td>Sun, 09 Dec 2018</td> <th>  Prob (F-statistic):</th>  <td>0.0775</td> \n",
       "</tr>\n",
       "<tr>\n",
       "  <th>Time:</th>                 <td>11:40:11</td>     <th>  Log-Likelihood:    </th> <td> -188.49</td>\n",
       "</tr>\n",
       "<tr>\n",
       "  <th>No. Observations:</th>      <td>    19</td>      <th>  AIC:               </th> <td>   381.0</td>\n",
       "</tr>\n",
       "<tr>\n",
       "  <th>Df Residuals:</th>          <td>    17</td>      <th>  BIC:               </th> <td>   382.9</td>\n",
       "</tr>\n",
       "<tr>\n",
       "  <th>Df Model:</th>              <td>     1</td>      <th>                     </th>     <td> </td>   \n",
       "</tr>\n",
       "<tr>\n",
       "  <th>Covariance Type:</th>      <td>nonrobust</td>    <th>                     </th>     <td> </td>   \n",
       "</tr>\n",
       "</table>\n",
       "<table class=\"simpletable\">\n",
       "<tr>\n",
       "      <td></td>         <th>coef</th>     <th>std err</th>      <th>t</th>      <th>P>|t|</th>  <th>[0.025</th>    <th>0.975]</th>  \n",
       "</tr>\n",
       "<tr>\n",
       "  <th>ratings</th>   <td> 2096.1514</td> <td> 1115.716</td> <td>    1.879</td> <td> 0.078</td> <td> -257.803</td> <td> 4450.106</td>\n",
       "</tr>\n",
       "<tr>\n",
       "  <th>intercept</th> <td>-1.872e+04</td> <td> 1.32e+04</td> <td>   -1.418</td> <td> 0.174</td> <td>-4.66e+04</td> <td> 9127.448</td>\n",
       "</tr>\n",
       "</table>\n",
       "<table class=\"simpletable\">\n",
       "<tr>\n",
       "  <th>Omnibus:</th>       <td> 3.499</td> <th>  Durbin-Watson:     </th> <td>   2.241</td>\n",
       "</tr>\n",
       "<tr>\n",
       "  <th>Prob(Omnibus):</th> <td> 0.174</td> <th>  Jarque-Bera (JB):  </th> <td>   2.213</td>\n",
       "</tr>\n",
       "<tr>\n",
       "  <th>Skew:</th>          <td> 0.835</td> <th>  Prob(JB):          </th> <td>   0.331</td>\n",
       "</tr>\n",
       "<tr>\n",
       "  <th>Kurtosis:</th>      <td> 3.062</td> <th>  Cond. No.          </th> <td>    132.</td>\n",
       "</tr>\n",
       "</table><br/><br/>Warnings:<br/>[1] Standard Errors assume that the covariance matrix of the errors is correctly specified."
      ],
      "text/plain": [
       "<class 'statsmodels.iolib.summary.Summary'>\n",
       "\"\"\"\n",
       "                            OLS Regression Results                            \n",
       "==============================================================================\n",
       "Dep. Variable:               retweets   R-squared:                       0.172\n",
       "Model:                            OLS   Adj. R-squared:                  0.123\n",
       "Method:                 Least Squares   F-statistic:                     3.530\n",
       "Date:                Sun, 09 Dec 2018   Prob (F-statistic):             0.0775\n",
       "Time:                        11:40:11   Log-Likelihood:                -188.49\n",
       "No. Observations:                  19   AIC:                             381.0\n",
       "Df Residuals:                      17   BIC:                             382.9\n",
       "Df Model:                           1                                         \n",
       "Covariance Type:            nonrobust                                         \n",
       "==============================================================================\n",
       "                 coef    std err          t      P>|t|      [0.025      0.975]\n",
       "------------------------------------------------------------------------------\n",
       "ratings     2096.1514   1115.716      1.879      0.078    -257.803    4450.106\n",
       "intercept  -1.872e+04   1.32e+04     -1.418      0.174   -4.66e+04    9127.448\n",
       "==============================================================================\n",
       "Omnibus:                        3.499   Durbin-Watson:                   2.241\n",
       "Prob(Omnibus):                  0.174   Jarque-Bera (JB):                2.213\n",
       "Skew:                           0.835   Prob(JB):                        0.331\n",
       "Kurtosis:                       3.062   Cond. No.                         132.\n",
       "==============================================================================\n",
       "\n",
       "Warnings:\n",
       "[1] Standard Errors assume that the covariance matrix of the errors is correctly specified.\n",
       "\"\"\""
      ]
     },
     "execution_count": 68,
     "metadata": {},
     "output_type": "execute_result"
    }
   ],
   "source": [
    "sm.OLS(df_mean_ratings_likes.retweets, df_mean_ratings_likes[['ratings', 'intercept']], missing='drop').fit().summary()"
   ]
  },
  {
   "cell_type": "code",
   "execution_count": 69,
   "metadata": {},
   "outputs": [
    {
     "data": {
      "image/png": "[encoded data removed]",
      "text/plain": [
       "<Figure size 432x288 with 1 Axes>"
      ]
     },
     "metadata": {},
     "output_type": "display_data"
    }
   ],
   "source": [
    "plt.scatter(df_mean_ratings_likes.ratings, df_mean_ratings_likes.retweets);\n",
    "plt.plot(df_mean_ratings_likes.ratings, df_mean_ratings_likes.ratings * 2096 - 18720, color='red');\n",
    "plt.xlabel('Average Rating');\n",
    "plt.ylabel('Average Retweets');"
   ]
  },
  {
   "cell_type": "markdown",
   "metadata": {},
   "source": [
    "Again, P-value is not much better, 7.8% so we can conclude they to weakly correlate in a statistically significant way."
   ]
  },
  {
   "cell_type": "markdown",
   "metadata": {},
   "source": [
    "Next, we'll see what's the popularity distribution of each dog type."
   ]
  },
  {
   "cell_type": "code",
   "execution_count": 70,
   "metadata": {},
   "outputs": [
    {
     "data": {
      "text/plain": [
       "{'doggo': 12.225806451612904,\n",
       " 'puppo': 12.055555555555555,\n",
       " 'pupper': 11.065420560747663,\n",
       " 'floofer': 11.857142857142858}"
      ]
     },
     "execution_count": 70,
     "metadata": {},
     "output_type": "execute_result"
    }
   ],
   "source": [
    "type_ratings = extractRatingByParameter(df_dog_data[['rating_numerator', 'dog_type']])\n",
    "type_ratings_mean = {b:type_ratings[b].mean() for b in type_ratings.keys()}\n",
    "type_ratings_mean"
   ]
  },
  {
   "cell_type": "markdown",
   "metadata": {},
   "source": [
    "Let's visualise this."
   ]
  },
  {
   "cell_type": "code",
   "execution_count": 71,
   "metadata": {},
   "outputs": [
    {
     "data": {
      "image/png": "[encoded data removed]",
      "text/plain": [
       "<Figure size 432x288 with 1 Axes>"
      ]
     },
     "metadata": {},
     "output_type": "display_data"
    }
   ],
   "source": [
    "plt.bar(list(type_ratings_mean.keys()), list(type_ratings_mean.values()));\n",
    "plt.xlabel('Dog Type');\n",
    "plt.ylabel('Average rating');"
   ]
  },
  {
   "cell_type": "markdown",
   "metadata": {},
   "source": [
    "We can see that `doggo` is an indisputable leader, the goodest of the boys and girls."
   ]
  },
  {
   "cell_type": "markdown",
   "metadata": {},
   "source": [
    "Let's build the linear regression for dog types and tweet data and see if there is actually a statistically significant difference."
   ]
  },
  {
   "cell_type": "code",
   "execution_count": 72,
   "metadata": {},
   "outputs": [
    {
     "data": {
      "text/html": [
       "<table class=\"simpletable\">\n",
       "<caption>OLS Regression Results</caption>\n",
       "<tr>\n",
       "  <th>Dep. Variable:</th>          <td>likes</td>      <th>  R-squared:         </th> <td>   0.056</td>\n",
       "</tr>\n",
       "<tr>\n",
       "  <th>Model:</th>                   <td>OLS</td>       <th>  Adj. R-squared:    </th> <td>   0.019</td>\n",
       "</tr>\n",
       "<tr>\n",
       "  <th>Method:</th>             <td>Least Squares</td>  <th>  F-statistic:       </th> <td>   1.507</td>\n",
       "</tr>\n",
       "<tr>\n",
       "  <th>Date:</th>             <td>Sun, 09 Dec 2018</td> <th>  Prob (F-statistic):</th>  <td> 0.220</td> \n",
       "</tr>\n",
       "<tr>\n",
       "  <th>Time:</th>                 <td>11:40:12</td>     <th>  Log-Likelihood:    </th> <td> -914.93</td>\n",
       "</tr>\n",
       "<tr>\n",
       "  <th>No. Observations:</th>      <td>    80</td>      <th>  AIC:               </th> <td>   1838.</td>\n",
       "</tr>\n",
       "<tr>\n",
       "  <th>Df Residuals:</th>          <td>    76</td>      <th>  BIC:               </th> <td>   1847.</td>\n",
       "</tr>\n",
       "<tr>\n",
       "  <th>Df Model:</th>              <td>     3</td>      <th>                     </th>     <td> </td>   \n",
       "</tr>\n",
       "<tr>\n",
       "  <th>Covariance Type:</th>      <td>nonrobust</td>    <th>                     </th>     <td> </td>   \n",
       "</tr>\n",
       "</table>\n",
       "<table class=\"simpletable\">\n",
       "<tr>\n",
       "      <td></td>         <th>coef</th>     <th>std err</th>      <th>t</th>      <th>P>|t|</th>  <th>[0.025</th>    <th>0.975]</th>  \n",
       "</tr>\n",
       "<tr>\n",
       "  <th>intercept</th> <td> 1.623e+04</td> <td> 1.03e+04</td> <td>    1.578</td> <td> 0.119</td> <td>-4258.903</td> <td> 3.67e+04</td>\n",
       "</tr>\n",
       "<tr>\n",
       "  <th>doggo</th>     <td> 6270.9692</td> <td> 1.12e+04</td> <td>    0.558</td> <td> 0.578</td> <td>-1.61e+04</td> <td> 2.86e+04</td>\n",
       "</tr>\n",
       "<tr>\n",
       "  <th>puppo</th>     <td> 8252.6706</td> <td> 1.17e+04</td> <td>    0.705</td> <td> 0.483</td> <td>-1.51e+04</td> <td> 3.16e+04</td>\n",
       "</tr>\n",
       "<tr>\n",
       "  <th>pupper</th>    <td>-4208.6438</td> <td> 1.11e+04</td> <td>   -0.380</td> <td> 0.705</td> <td>-2.62e+04</td> <td> 1.78e+04</td>\n",
       "</tr>\n",
       "</table>\n",
       "<table class=\"simpletable\">\n",
       "<tr>\n",
       "  <th>Omnibus:</th>       <td>81.036</td> <th>  Durbin-Watson:     </th> <td>   1.938</td> \n",
       "</tr>\n",
       "<tr>\n",
       "  <th>Prob(Omnibus):</th> <td> 0.000</td> <th>  Jarque-Bera (JB):  </th> <td> 645.326</td> \n",
       "</tr>\n",
       "<tr>\n",
       "  <th>Skew:</th>          <td> 3.221</td> <th>  Prob(JB):          </th> <td>7.40e-141</td>\n",
       "</tr>\n",
       "<tr>\n",
       "  <th>Kurtosis:</th>      <td>15.333</td> <th>  Cond. No.          </th> <td>    9.38</td> \n",
       "</tr>\n",
       "</table><br/><br/>Warnings:<br/>[1] Standard Errors assume that the covariance matrix of the errors is correctly specified."
      ],
      "text/plain": [
       "<class 'statsmodels.iolib.summary.Summary'>\n",
       "\"\"\"\n",
       "                            OLS Regression Results                            \n",
       "==============================================================================\n",
       "Dep. Variable:                  likes   R-squared:                       0.056\n",
       "Model:                            OLS   Adj. R-squared:                  0.019\n",
       "Method:                 Least Squares   F-statistic:                     1.507\n",
       "Date:                Sun, 09 Dec 2018   Prob (F-statistic):              0.220\n",
       "Time:                        11:40:12   Log-Likelihood:                -914.93\n",
       "No. Observations:                  80   AIC:                             1838.\n",
       "Df Residuals:                      76   BIC:                             1847.\n",
       "Df Model:                           3                                         \n",
       "Covariance Type:            nonrobust                                         \n",
       "==============================================================================\n",
       "                 coef    std err          t      P>|t|      [0.025      0.975]\n",
       "------------------------------------------------------------------------------\n",
       "intercept   1.623e+04   1.03e+04      1.578      0.119   -4258.903    3.67e+04\n",
       "doggo       6270.9692   1.12e+04      0.558      0.578   -1.61e+04    2.86e+04\n",
       "puppo       8252.6706   1.17e+04      0.705      0.483   -1.51e+04    3.16e+04\n",
       "pupper     -4208.6438   1.11e+04     -0.380      0.705   -2.62e+04    1.78e+04\n",
       "==============================================================================\n",
       "Omnibus:                       81.036   Durbin-Watson:                   1.938\n",
       "Prob(Omnibus):                  0.000   Jarque-Bera (JB):              645.326\n",
       "Skew:                           3.221   Prob(JB):                    7.40e-141\n",
       "Kurtosis:                      15.333   Cond. No.                         9.38\n",
       "==============================================================================\n",
       "\n",
       "Warnings:\n",
       "[1] Standard Errors assume that the covariance matrix of the errors is correctly specified.\n",
       "\"\"\""
      ]
     },
     "execution_count": 72,
     "metadata": {},
     "output_type": "execute_result"
    }
   ],
   "source": [
    "df_dog_data_w_dummies = df_dog_data.join(pd.get_dummies(df_dog_data.dog_type)).join(df_tweet_data.set_index('tweet_id'))\n",
    "df_dog_data_w_dummies = df_dog_data_w_dummies.dropna()\n",
    "df_dog_data_w_dummies['intercept'] = 1\n",
    "\n",
    "sm.OLS(df_dog_data_w_dummies['likes'], df_dog_data_w_dummies[['intercept', 'doggo', 'puppo', 'pupper']]).fit().summary()"
   ]
  },
  {
   "cell_type": "code",
   "execution_count": 75,
   "metadata": {},
   "outputs": [
    {
     "data": {
      "text/html": [
       "<table class=\"simpletable\">\n",
       "<caption>OLS Regression Results</caption>\n",
       "<tr>\n",
       "  <th>Dep. Variable:</th>    <td>rating_numerator</td> <th>  R-squared:         </th> <td>   0.080</td>\n",
       "</tr>\n",
       "<tr>\n",
       "  <th>Model:</th>                   <td>OLS</td>       <th>  Adj. R-squared:    </th> <td>   0.044</td>\n",
       "</tr>\n",
       "<tr>\n",
       "  <th>Method:</th>             <td>Least Squares</td>  <th>  F-statistic:       </th> <td>   2.213</td>\n",
       "</tr>\n",
       "<tr>\n",
       "  <th>Date:</th>             <td>Sun, 09 Dec 2018</td> <th>  Prob (F-statistic):</th>  <td>0.0934</td> \n",
       "</tr>\n",
       "<tr>\n",
       "  <th>Time:</th>                 <td>12:07:15</td>     <th>  Log-Likelihood:    </th> <td> -132.42</td>\n",
       "</tr>\n",
       "<tr>\n",
       "  <th>No. Observations:</th>      <td>    80</td>      <th>  AIC:               </th> <td>   272.8</td>\n",
       "</tr>\n",
       "<tr>\n",
       "  <th>Df Residuals:</th>          <td>    76</td>      <th>  BIC:               </th> <td>   282.4</td>\n",
       "</tr>\n",
       "<tr>\n",
       "  <th>Df Model:</th>              <td>     3</td>      <th>                     </th>     <td> </td>   \n",
       "</tr>\n",
       "<tr>\n",
       "  <th>Covariance Type:</th>      <td>nonrobust</td>    <th>                     </th>     <td> </td>   \n",
       "</tr>\n",
       "</table>\n",
       "<table class=\"simpletable\">\n",
       "<tr>\n",
       "      <td></td>         <th>coef</th>     <th>std err</th>      <th>t</th>      <th>P>|t|</th>  <th>[0.025</th>    <th>0.975]</th>  \n",
       "</tr>\n",
       "<tr>\n",
       "  <th>intercept</th> <td>   12.2000</td> <td>    0.581</td> <td>   20.993</td> <td> 0.000</td> <td>   11.043</td> <td>   13.357</td>\n",
       "</tr>\n",
       "<tr>\n",
       "  <th>doggo</th>     <td>   -0.0077</td> <td>    0.635</td> <td>   -0.012</td> <td> 0.990</td> <td>   -1.272</td> <td>    1.256</td>\n",
       "</tr>\n",
       "<tr>\n",
       "  <th>puppo</th>     <td>   -0.2000</td> <td>    0.661</td> <td>   -0.303</td> <td> 0.763</td> <td>   -1.517</td> <td>    1.117</td>\n",
       "</tr>\n",
       "<tr>\n",
       "  <th>pupper</th>    <td>   -0.8250</td> <td>    0.625</td> <td>   -1.320</td> <td> 0.191</td> <td>   -2.070</td> <td>    0.420</td>\n",
       "</tr>\n",
       "</table>\n",
       "<table class=\"simpletable\">\n",
       "<tr>\n",
       "  <th>Omnibus:</th>       <td> 3.452</td> <th>  Durbin-Watson:     </th> <td>   1.138</td>\n",
       "</tr>\n",
       "<tr>\n",
       "  <th>Prob(Omnibus):</th> <td> 0.178</td> <th>  Jarque-Bera (JB):  </th> <td>   3.019</td>\n",
       "</tr>\n",
       "<tr>\n",
       "  <th>Skew:</th>          <td>-0.381</td> <th>  Prob(JB):          </th> <td>   0.221</td>\n",
       "</tr>\n",
       "<tr>\n",
       "  <th>Kurtosis:</th>      <td> 2.429</td> <th>  Cond. No.          </th> <td>    9.38</td>\n",
       "</tr>\n",
       "</table><br/><br/>Warnings:<br/>[1] Standard Errors assume that the covariance matrix of the errors is correctly specified."
      ],
      "text/plain": [
       "<class 'statsmodels.iolib.summary.Summary'>\n",
       "\"\"\"\n",
       "                            OLS Regression Results                            \n",
       "==============================================================================\n",
       "Dep. Variable:       rating_numerator   R-squared:                       0.080\n",
       "Model:                            OLS   Adj. R-squared:                  0.044\n",
       "Method:                 Least Squares   F-statistic:                     2.213\n",
       "Date:                Sun, 09 Dec 2018   Prob (F-statistic):             0.0934\n",
       "Time:                        12:07:15   Log-Likelihood:                -132.42\n",
       "No. Observations:                  80   AIC:                             272.8\n",
       "Df Residuals:                      76   BIC:                             282.4\n",
       "Df Model:                           3                                         \n",
       "Covariance Type:            nonrobust                                         \n",
       "==============================================================================\n",
       "                 coef    std err          t      P>|t|      [0.025      0.975]\n",
       "------------------------------------------------------------------------------\n",
       "intercept     12.2000      0.581     20.993      0.000      11.043      13.357\n",
       "doggo         -0.0077      0.635     -0.012      0.990      -1.272       1.256\n",
       "puppo         -0.2000      0.661     -0.303      0.763      -1.517       1.117\n",
       "pupper        -0.8250      0.625     -1.320      0.191      -2.070       0.420\n",
       "==============================================================================\n",
       "Omnibus:                        3.452   Durbin-Watson:                   1.138\n",
       "Prob(Omnibus):                  0.178   Jarque-Bera (JB):                3.019\n",
       "Skew:                          -0.381   Prob(JB):                        0.221\n",
       "Kurtosis:                       2.429   Cond. No.                         9.38\n",
       "==============================================================================\n",
       "\n",
       "Warnings:\n",
       "[1] Standard Errors assume that the covariance matrix of the errors is correctly specified.\n",
       "\"\"\""
      ]
     },
     "execution_count": 75,
     "metadata": {},
     "output_type": "execute_result"
    }
   ],
   "source": [
    "sm.OLS(df_dog_data_w_dummies['rating_numerator'], df_dog_data_w_dummies[['intercept', 'doggo', 'puppo', 'pupper']]).fit().summary()"
   ]
  },
  {
   "cell_type": "markdown",
   "metadata": {},
   "source": [
    "From the above result we can conclude that there's weak and statistically insignificant correlation between dog types and the rating they receive. \"They're Good Dogs Brent\"."
   ]
  },
  {
   "cell_type": "markdown",
   "metadata": {},
   "source": [
    "# Appendix"
   ]
  },
  {
   "cell_type": "markdown",
   "metadata": {},
   "source": [
    "[1] - Tidy data https://cran.r-project.org/web/packages/tidyr/vignettes/tidy-data.html"
   ]
  }
 ],
 "metadata": {
  "kernelspec": {
   "display_name": "Python 3",
   "language": "python",
   "name": "python3"
  },
  "language_info": {
   "codemirror_mode": {
    "name": "ipython",
    "version": 3
   },
   "file_extension": ".py",
   "mimetype": "text/x-python",
   "name": "python",
   "nbconvert_exporter": "python",
   "pygments_lexer": "ipython3",
   "version": "3.6.5"
  }
 },
 "nbformat": 4,
 "nbformat_minor": 2
}
